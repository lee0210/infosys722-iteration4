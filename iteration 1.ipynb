{
 "cells": [
  {
   "cell_type": "markdown",
   "id": "a3117901-874c-4979-9551-0b2f597f3ad4",
   "metadata": {},
   "source": [
    "## INFOSYS 722 Assignement Iteration 4"
   ]
  },
  {
   "cell_type": "code",
   "execution_count": 1,
   "id": "b6a4d98d-8000-4070-8d6e-d6d1501f4eac",
   "metadata": {},
   "outputs": [],
   "source": [
    "import pyspark\n",
    "from pyspark.sql import SparkSession\n",
    "from pyspark.sql import functions as F\n",
    "import numpy as np\n",
    "import pandas as pd\n",
    "import matplotlib.pyplot as plt"
   ]
  },
  {
   "cell_type": "code",
   "execution_count": 2,
   "id": "77edb78b-f681-48dd-ac1e-eb26458ddefb",
   "metadata": {},
   "outputs": [],
   "source": [
    "spark = SparkSession.builder.appName('infosys722-i4').getOrCreate()"
   ]
  },
  {
   "cell_type": "markdown",
   "id": "5abf718d-6f39-4451-92c3-2f009abeb2ed",
   "metadata": {},
   "source": [
    "### Read Raw Data"
   ]
  },
  {
   "cell_type": "code",
   "execution_count": 3,
   "id": "6dc0dfcc-5805-4ff6-ac88-65f4e81557bd",
   "metadata": {},
   "outputs": [],
   "source": [
    "raw_data_products = spark.read.options(compression='gzip').csv('./Datasets/2017PurchasePricesDec.csv.gz', inferSchema=True, header=True)\n",
    "raw_data_inventory = spark.read.options(compression='gzip').csv('./Datasets/BegInvFINAL12312016.csv.gz', inferSchema=True, header=True)\n",
    "raw_data_inventory_end = spark.read.options(compression='gzip').csv('./Datasets/EndInvFINAL12312016.csv.gz', inferSchema=True, header=True)\n",
    "raw_data_purchase_order = spark.read.options(compression='gzip').csv('./Datasets/InvoicePurchases12312016.csv.gz', inferSchema=True, header=True)\n",
    "raw_data_purchase_detail = spark.read.options(compression='gzip').csv('./Datasets/PurchasesFINAL12312016.csv.gz', inferSchema=True, header=True)\n",
    "raw_data_sales = spark.read.options(compression='gzip').csv('./Datasets/SalesFINAL12312016.csv.gz', inferSchema=True, header=True)"
   ]
  },
  {
   "cell_type": "markdown",
   "id": "f72c600c-1e46-4a38-93e5-491bab26d797",
   "metadata": {},
   "source": [
    "### Data Understanding"
   ]
  },
  {
   "cell_type": "markdown",
   "id": "db3a4072-7814-4709-be12-08bf90bccf7b",
   "metadata": {},
   "source": [
    "#### Describe Data"
   ]
  },
  {
   "cell_type": "code",
   "execution_count": 4,
   "id": "04c5cbc0-dcbc-4210-938c-a55d6ec4857f",
   "metadata": {},
   "outputs": [
    {
     "data": {
      "text/plain": [
       "Row(Brand=58, Description='Gekkeikan Black & Gold Sake', Price=12.99, Size='750mL', Volume='750', Classification=1, PurchasePrice=9.28, VendorNumber=8320, VendorName='SHAW ROSS INT L IMP LTD    ')"
      ]
     },
     "execution_count": 4,
     "metadata": {},
     "output_type": "execute_result"
    }
   ],
   "source": [
    "raw_data_products.head()"
   ]
  },
  {
   "cell_type": "code",
   "execution_count": 5,
   "id": "7d8b860d-4997-4a94-a1fb-d005e69b4e69",
   "metadata": {},
   "outputs": [
    {
     "data": {
      "text/plain": [
       "Row(InventoryId='1_HARDERSFIELD_58', Store=1, City='HARDERSFIELD', Brand=58, Description='Gekkeikan Black & Gold Sake', Size='750mL', onHand=8, Price=12.99, startDate=datetime.date(2016, 1, 1))"
      ]
     },
     "execution_count": 5,
     "metadata": {},
     "output_type": "execute_result"
    }
   ],
   "source": [
    "raw_data_inventory.head()"
   ]
  },
  {
   "cell_type": "code",
   "execution_count": 6,
   "id": "01faf6f2-e26b-48ac-9fe8-172cb2ae5c8d",
   "metadata": {},
   "outputs": [
    {
     "data": {
      "text/plain": [
       "Row(InventoryId='1_HARDERSFIELD_58', Store=1, City='HARDERSFIELD', Brand=58, Description='Gekkeikan Black & Gold Sake', Size='750mL', onHand=11, Price=12.99, endDate=datetime.date(2016, 12, 31))"
      ]
     },
     "execution_count": 6,
     "metadata": {},
     "output_type": "execute_result"
    }
   ],
   "source": [
    "raw_data_inventory_end.head()"
   ]
  },
  {
   "cell_type": "code",
   "execution_count": 7,
   "id": "f74b9351-0d1b-4111-bf0b-de62d0fade32",
   "metadata": {},
   "outputs": [
    {
     "data": {
      "text/plain": [
       "Row(VendorNumber=105, VendorName='ALTAMAR BRANDS LLC         ', InvoiceDate=datetime.date(2016, 1, 4), PONumber=8124, PODate=datetime.date(2015, 12, 21), PayDate=datetime.date(2016, 2, 16), Quantity=6, Dollars=214.26, Freight=3.47, Approval='None')"
      ]
     },
     "execution_count": 7,
     "metadata": {},
     "output_type": "execute_result"
    }
   ],
   "source": [
    "raw_data_purchase_order.head()"
   ]
  },
  {
   "cell_type": "code",
   "execution_count": 8,
   "id": "4b10e604-b312-465a-940f-524c2292fdf4",
   "metadata": {},
   "outputs": [
    {
     "data": {
      "text/plain": [
       "Row(InventoryId='69_MOUNTMEND_8412', Store=69, Brand=8412, Description='Tequila Ocho Plata Fresno', Size='750mL', VendorNumber=105, VendorName='ALTAMAR BRANDS LLC         ', PONumber=8124, PODate=datetime.date(2015, 12, 21), ReceivingDate=datetime.date(2016, 1, 2), InvoiceDate=datetime.date(2016, 1, 4), PayDate=datetime.date(2016, 2, 16), PurchasePrice=35.71, Quantity=6, Dollars=214.26, Classification=1)"
      ]
     },
     "execution_count": 8,
     "metadata": {},
     "output_type": "execute_result"
    }
   ],
   "source": [
    "raw_data_purchase_detail.head()"
   ]
  },
  {
   "cell_type": "code",
   "execution_count": 9,
   "id": "4aa0a769-0a90-4a65-a5b9-9806bfc072f8",
   "metadata": {},
   "outputs": [
    {
     "data": {
      "text/plain": [
       "Row(InventoryId='1_HARDERSFIELD_1004', Store=1, Brand=1004, Description='Jim Beam w/2 Rocks Glasses', Size='750mL', SalesQuantity=1, SalesDollars=16.49, SalesPrice=16.49, SalesDate='1/1/2016', Volume=750, Classification=1, ExciseTax=0.79, VendorNo=12546, VendorName='JIM BEAM BRANDS COMPANY    ')"
      ]
     },
     "execution_count": 9,
     "metadata": {},
     "output_type": "execute_result"
    }
   ],
   "source": [
    "raw_data_sales.head()"
   ]
  },
  {
   "cell_type": "code",
   "execution_count": 10,
   "id": "bf39fa70-d355-48d9-9099-665f3f4e8c66",
   "metadata": {},
   "outputs": [],
   "source": [
    "def print_summary(dataframe):\n",
    "    summary = dataframe.summary()\n",
    "    columns = ['feature'] + [row['summary'] for row in summary.collect()]\n",
    "    data = []\n",
    "    for feature in summary.columns[1:]:\n",
    "        data.append([feature, *[row[feature] for row in summary.collect()]])\n",
    "    spark.createDataFrame(data, schema=columns).show()"
   ]
  },
  {
   "cell_type": "code",
   "execution_count": 11,
   "id": "0ae690d5-db93-443c-ba25-76dc44d3e162",
   "metadata": {},
   "outputs": [
    {
     "name": "stdout",
     "output_type": "stream",
     "text": [
      "root\n",
      " |-- Brand: integer (nullable = true)\n",
      " |-- Description: string (nullable = true)\n",
      " |-- Price: double (nullable = true)\n",
      " |-- Size: string (nullable = true)\n",
      " |-- Volume: string (nullable = true)\n",
      " |-- Classification: integer (nullable = true)\n",
      " |-- PurchasePrice: double (nullable = true)\n",
      " |-- VendorNumber: integer (nullable = true)\n",
      " |-- VendorName: string (nullable = true)\n",
      "\n",
      "+--------------+-----+------------------+------------------+--------------------+-----+-----+-----+--------------------+\n",
      "|       feature|count|              mean|            stddev|                 min|  25%|  50%|  75%|                 max|\n",
      "+--------------+-----+------------------+------------------+--------------------+-----+-----+-----+--------------------+\n",
      "|         Brand|12261|17989.067123399396|12528.503463986654|                  58| 5989|18787|25113|               90631|\n",
      "|   Description|12260|              null|              null|              (RI) 1| null| null| null|   von Buhl Jazz Rsl|\n",
      "|         Price|12261|  38.6402397846788|206.15117171085046|                 0.0|10.99|15.99|29.99|             13999.9|\n",
      "|          Size|12260|              null|              null|              1000mL| null| null| null|             Unknown|\n",
      "|        Volume|12260| 842.9214670365535| 679.5296278375954|                 100|750.0|750.0|750.0|             Unknown|\n",
      "|Classification|12261|1.7089960035886143|0.4542438764033406|                   1|    1|    2|    2|                   2|\n",
      "| PurchasePrice|12261|26.488219557948064|156.18294834427346|                 0.0| 6.89|10.64|20.13|            11111.03|\n",
      "|  VendorNumber|12261|10814.861756789822| 19007.68232219259|                   2| 3960| 7153| 9552|              173357|\n",
      "|    VendorName|12261|              null|              null|AAPER ALCOHOL & C...| null| null| null|ZORVINO VINEYARDS...|\n",
      "+--------------+-----+------------------+------------------+--------------------+-----+-----+-----+--------------------+\n",
      "\n"
     ]
    }
   ],
   "source": [
    "raw_data_products.printSchema()\n",
    "print_summary(raw_data_products)"
   ]
  },
  {
   "cell_type": "code",
   "execution_count": 12,
   "id": "4ae248b1-eefe-4cb3-bb68-956b28cde76c",
   "metadata": {},
   "outputs": [
    {
     "name": "stdout",
     "output_type": "stream",
     "text": [
      "root\n",
      " |-- InventoryId: string (nullable = true)\n",
      " |-- Store: integer (nullable = true)\n",
      " |-- City: string (nullable = true)\n",
      " |-- Brand: integer (nullable = true)\n",
      " |-- Description: string (nullable = true)\n",
      " |-- Size: string (nullable = true)\n",
      " |-- onHand: integer (nullable = true)\n",
      " |-- Price: double (nullable = true)\n",
      " |-- startDate: date (nullable = true)\n",
      "\n",
      "+-----------+------+------------------+------------------+--------------------+----+-----+-----+-----------------+\n",
      "|    feature| count|              mean|            stddev|                 min| 25%|  50%|  75%|              max|\n",
      "+-----------+------+------------------+------------------+--------------------+----+-----+-----+-----------------+\n",
      "|InventoryId|206529|              null|              null|     10_HORNSEY_1000|null| null| null|  9_BLACKPOOL_999|\n",
      "|      Store|206529| 42.12245737886689|23.191393409648104|                   1|  22|   42|   64|               79|\n",
      "|       City|206529|              null|              null|            ABERDEEN|null| null| null|          WOLFORD|\n",
      "|      Brand|206529|13761.482319674235|13059.429355155027|                  58|3746| 8008|22143|            90090|\n",
      "|Description|206529|              null|              null|\"A Bichot \"\"Champ...|null| null| null|von Buhl Jazz Rsl|\n",
      "|       Size|206529|              null|              null|                1.5L|null| null| null|            Liter|\n",
      "|     onHand|206529|20.429455427567074| 31.46734184914092|                   0|   7|   12|   21|             1251|\n",
      "|      Price|206529|22.253910104744666| 70.17896378208921|                 0.0|9.99|14.99|21.99|          13999.9|\n",
      "+-----------+------+------------------+------------------+--------------------+----+-----+-----+-----------------+\n",
      "\n"
     ]
    }
   ],
   "source": [
    "raw_data_inventory.printSchema()\n",
    "print_summary(raw_data_inventory)"
   ]
  },
  {
   "cell_type": "code",
   "execution_count": 13,
   "id": "ba836a3d-5dc4-478b-97ed-2b08d50f6b31",
   "metadata": {},
   "outputs": [
    {
     "name": "stdout",
     "output_type": "stream",
     "text": [
      "root\n",
      " |-- InventoryId: string (nullable = true)\n",
      " |-- Store: integer (nullable = true)\n",
      " |-- City: string (nullable = true)\n",
      " |-- Brand: integer (nullable = true)\n",
      " |-- Description: string (nullable = true)\n",
      " |-- Size: string (nullable = true)\n",
      " |-- onHand: integer (nullable = true)\n",
      " |-- Price: double (nullable = true)\n",
      " |-- endDate: date (nullable = true)\n",
      "\n",
      "+-----------+------+------------------+------------------+--------------------+----+-----+-----+-----------------+\n",
      "|    feature| count|              mean|            stddev|                 min| 25%|  50%|  75%|              max|\n",
      "+-----------+------+------------------+------------------+--------------------+----+-----+-----+-----------------+\n",
      "|InventoryId|224489|              null|              null|     10_HORNSEY_1001|null| null| null|  9_BLACKPOOL_984|\n",
      "|      Store|224489|43.505739702168036|23.326415082417782|                   1|  23|   44|   66|               81|\n",
      "|       City|223205|              null|              null|            ABERDEEN|null| null| null|          WOLFORD|\n",
      "|      Brand|224489|14356.370512586363| 13118.46785147188|                  58|3798| 8262|23973|            90631|\n",
      "|Description|224489|              null|              null|\"A Bichot \"\"Clos ...|null| null| null|von Buhl Jazz Rsl|\n",
      "|       Size|224489|              25.0|              null|                1.5L|25.0| 25.0| 25.0|            Liter|\n",
      "|     onHand|224489|   21.763988435959|37.233575725017225|                   0|   7|   12|   22|             3676|\n",
      "|      Price|224489| 23.58558294628021| 79.20277501683796|                0.49|9.99|14.99|23.49|          13999.9|\n",
      "+-----------+------+------------------+------------------+--------------------+----+-----+-----+-----------------+\n",
      "\n"
     ]
    }
   ],
   "source": [
    "raw_data_inventory_end.printSchema()\n",
    "print_summary(raw_data_inventory_end)"
   ]
  },
  {
   "cell_type": "code",
   "execution_count": 14,
   "id": "b72e947a-8ebb-45db-9497-bf73304e7afd",
   "metadata": {},
   "outputs": [
    {
     "name": "stdout",
     "output_type": "stream",
     "text": [
      "root\n",
      " |-- VendorNumber: integer (nullable = true)\n",
      " |-- VendorName: string (nullable = true)\n",
      " |-- InvoiceDate: date (nullable = true)\n",
      " |-- PONumber: integer (nullable = true)\n",
      " |-- PODate: date (nullable = true)\n",
      " |-- PayDate: date (nullable = true)\n",
      " |-- Quantity: integer (nullable = true)\n",
      " |-- Dollars: double (nullable = true)\n",
      " |-- Freight: double (nullable = true)\n",
      " |-- Approval: string (nullable = true)\n",
      "\n",
      "+------------+-----+------------------+------------------+--------------------+------+-------+--------+--------------------+\n",
      "|     feature|count|              mean|            stddev|                 min|   25%|    50%|     75%|                 max|\n",
      "+------------+-----+------------------+------------------+--------------------+------+-------+--------+--------------------+\n",
      "|VendorNumber| 5543|20662.752119790726| 34582.15840981278|                   2|  3089|   7240|   10754|              201359|\n",
      "|  VendorName| 5543|              null|              null|AAPER ALCOHOL & C...|  null|   null|    null|ZORVINO VINEYARDS...|\n",
      "|    PONumber| 5543| 10889.41908713693|1600.8599691498753|                8106|  9502|  10889|   12275|               13661|\n",
      "|    Quantity| 5543| 6058.880930903842|14453.338163524137|                   1|    83|    421|    5099|              141660|\n",
      "|     Dollars| 5543|58073.383642431974|140234.03137669544|                4.14|965.76|4763.06|44578.96|          1660435.88|\n",
      "|     Freight| 5543|295.95430092007996|   713.58509312179|                0.02|  5.01|  24.69|  229.53|             8468.22|\n",
      "|    Approval| 5543|              null|              null|      Frank Delahunt|  null|   null|    null|                None|\n",
      "+------------+-----+------------------+------------------+--------------------+------+-------+--------+--------------------+\n",
      "\n"
     ]
    }
   ],
   "source": [
    "raw_data_purchase_order.printSchema()\n",
    "print_summary(raw_data_purchase_order)"
   ]
  },
  {
   "cell_type": "code",
   "execution_count": 15,
   "id": "8face32c-bed3-448c-b803-a1cba7cdd713",
   "metadata": {},
   "outputs": [
    {
     "name": "stdout",
     "output_type": "stream",
     "text": [
      "root\n",
      " |-- InventoryId: string (nullable = true)\n",
      " |-- Store: integer (nullable = true)\n",
      " |-- Brand: integer (nullable = true)\n",
      " |-- Description: string (nullable = true)\n",
      " |-- Size: string (nullable = true)\n",
      " |-- VendorNumber: integer (nullable = true)\n",
      " |-- VendorName: string (nullable = true)\n",
      " |-- PONumber: integer (nullable = true)\n",
      " |-- PODate: date (nullable = true)\n",
      " |-- ReceivingDate: date (nullable = true)\n",
      " |-- InvoiceDate: date (nullable = true)\n",
      " |-- PayDate: date (nullable = true)\n",
      " |-- PurchasePrice: double (nullable = true)\n",
      " |-- Quantity: integer (nullable = true)\n",
      " |-- Dollars: double (nullable = true)\n",
      " |-- Classification: integer (nullable = true)\n",
      "\n",
      "+--------------+-------+------------------+------------------+--------------------+-----+-----+------+--------------------+\n",
      "|       feature|  count|              mean|            stddev|                 min|  25%|  50%|   75%|                 max|\n",
      "+--------------+-------+------------------+------------------+--------------------+-----+-----+------+--------------------+\n",
      "|   InventoryId|2372474|              null|              null|     10_HORNSEY_1001| null| null|  null|     9_BLACKPOOL_999|\n",
      "|         Store|2372474| 44.65132768578286|23.512447993262825|                   1|   25|   48|    67|                  81|\n",
      "|         Brand|2372474|12418.641109660211|12557.278331333824|                  58| 3639| 6524| 18879|               90631|\n",
      "|   Description|2372474|              null|              null|              (RI) 1| null| null|  null|   von Buhl Jazz Rsl|\n",
      "|          Size|2372471|              25.0|               0.0|                1.5L| 25.0| 25.0|  25.0|               Liter|\n",
      "|  VendorNumber|2372474|6886.4355331185925| 8066.693890996773|                   2| 3252| 4425|  9552|              201359|\n",
      "|    VendorName|2372474|              null|              null|AAPER ALCOHOL & C...| null| null|  null|ZORVINO VINEYARDS...|\n",
      "|      PONumber|2372474|11040.936647145554|1565.3402203819796|                8106| 9761|11103| 12395|               13661|\n",
      "| PurchasePrice|2372474|  12.0500500995995|17.945104374106275|                 0.0| 6.12| 9.22| 14.49|             5681.81|\n",
      "|      Quantity|2372474|14.155846175764202|23.446161530870228|                   1|    6|   10|    12|                3816|\n",
      "|       Dollars|2372474| 135.6814723912059|281.66494116451986|                 0.0|49.26|83.93|140.52|             50175.7|\n",
      "|Classification|2372474|1.4435201397359887|0.4967998887029364|                   1|    1|    1|     2|                   2|\n",
      "+--------------+-------+------------------+------------------+--------------------+-----+-----+------+--------------------+\n",
      "\n"
     ]
    }
   ],
   "source": [
    "raw_data_purchase_detail.printSchema()\n",
    "print_summary(raw_data_purchase_detail)"
   ]
  },
  {
   "cell_type": "code",
   "execution_count": 17,
   "id": "4a6c24f7-2a00-4bdf-ac5d-873d0daca2c4",
   "metadata": {},
   "outputs": [
    {
     "name": "stdout",
     "output_type": "stream",
     "text": [
      "root\n",
      " |-- InventoryId: string (nullable = true)\n",
      " |-- Store: integer (nullable = true)\n",
      " |-- Brand: integer (nullable = true)\n",
      " |-- Description: string (nullable = true)\n",
      " |-- Size: string (nullable = true)\n",
      " |-- SalesQuantity: integer (nullable = true)\n",
      " |-- SalesDollars: double (nullable = true)\n",
      " |-- SalesPrice: double (nullable = true)\n",
      " |-- SalesDate: string (nullable = true)\n",
      " |-- Volume: integer (nullable = true)\n",
      " |-- Classification: integer (nullable = true)\n",
      " |-- ExciseTax: double (nullable = true)\n",
      " |-- VendorNo: integer (nullable = true)\n",
      " |-- VendorName: string (nullable = true)\n",
      "\n",
      "+--------------+-------+------------------+-------------------+--------------------+-----+-----+-----+--------------------+\n",
      "|       feature|  count|              mean|             stddev|                 min|  25%|  50%|  75%|                 max|\n",
      "+--------------+-------+------------------+-------------------+--------------------+-----+-----+-----+--------------------+\n",
      "|   InventoryId|1048575|              null|               null|     10_HORNSEY_1000| null| null| null|     9_BLACKPOOL_984|\n",
      "|         Store|1048575| 40.08063228667477| 24.357387619437187|                   1|   15|   39|   64|                  79|\n",
      "|         Brand|1048575|12169.585280976564|   12419.2136253631|                  58| 3680| 6296|17954|               90089|\n",
      "|   Description|1048575|              null|               null|              (RI) 1| null| null| null|   von Buhl Jazz Rsl|\n",
      "|          Size|1048575|              null|               null|                1.5L| null| null| null|               Liter|\n",
      "| SalesQuantity|1048575| 2.337619149798536| 3.5114919916228993|                   1|    1|    1|    2|                 432|\n",
      "|  SalesDollars|1048575|31.604201215621814|  65.70248617856673|                0.49|10.99|17.99|31.99|            13279.97|\n",
      "|    SalesPrice|1048575|15.431621505550952| 14.049673859031138|                0.49| 8.99|12.99|18.99|             4999.99|\n",
      "|     SalesDate|1048575|              null|               null|            1/1/2016| null| null| null|            2/9/2016|\n",
      "|        Volume|1048575| 950.0280266075388|  714.2707744522893|                  50|  750|  750| 1500|               20000|\n",
      "|Classification|1048575|1.4165500798703001|0.49298716272139326|                   1|    1|    1|    2|                   2|\n",
      "|     ExciseTax|1048575|1.3268470543405497|  3.407898035344157|                0.01| 0.16| 0.68| 1.57|              378.52|\n",
      "|      VendorNo|1048575| 6995.043206256109|  8426.735714463233|                   2| 3252| 4425| 9552|              173357|\n",
      "|    VendorName|1048575|              null|               null|ALISA CARR BEVERA...| null| null| null|ZORVINO VINEYARDS...|\n",
      "+--------------+-------+------------------+-------------------+--------------------+-----+-----+-----+--------------------+\n",
      "\n"
     ]
    }
   ],
   "source": [
    "raw_data_sales.printSchema()\n",
    "print_summary(raw_data_sales)"
   ]
  },
  {
   "cell_type": "code",
   "execution_count": 19,
   "id": "36688148-13f6-41af-a0fe-51105b49ec4e",
   "metadata": {},
   "outputs": [],
   "source": [
    "def replace(dataframe, column, condition, new_value):\n",
    "    return dataframe.withColumn(column, F.when(condition, new_value).otherwise(dataframe[column]))\n",
    "\n",
    "#\n",
    "# replace invalid value\n",
    "#\n",
    "raw_data_products = replace(raw_data_products, 'Volume', raw_data_products['Volume'].isNull(), 0)\n",
    "raw_data_products = replace(raw_data_products, 'Volume', raw_data_products['Volume'] == 'Unknown', 0)\n",
    "raw_data_products = replace(raw_data_products, 'Volume', raw_data_products['Volume'] == '162.5', 162)\n",
    "\n",
    "#\n",
    "# Correct Data Type\n",
    "#\n",
    "dtype_products = {\n",
    "    'Brand': 'string',\n",
    "    'Description': 'string',\n",
    "    'Price': 'float',\n",
    "    'Size': 'string',\n",
    "    'Volume': 'int',\n",
    "    'Classification': 'string',\n",
    "    'PurchasePrice': 'float',\n",
    "    'VendorNumber': 'string',\n",
    "    'VendorName': 'string',\n",
    "}\n",
    "    \n",
    "dtype_inventory_begin = {    \n",
    "    'InventoryId': 'string',\n",
    "    'Store': 'string',\n",
    "    'City': 'string',\n",
    "    'Brand': 'string',\n",
    "    'Description': 'string',\n",
    "    'Size': 'string',\n",
    "    'onHand': 'int',\n",
    "    'Price': 'float',\n",
    "    'startDate': 'string',\n",
    "}    \n",
    "\n",
    "dtype_inventory_end = { \n",
    "    'InventoryId': 'string',\n",
    "    'Store': 'string',\n",
    "    'City': 'string',\n",
    "    'Brand': 'string',\n",
    "    'Description': 'string',\n",
    "    'Size': 'string',\n",
    "    'onHand': 'int',\n",
    "    'Price': 'float',\n",
    "    'endDate': 'string',\n",
    "}    \n",
    "\n",
    "dtype_purchase_order = {    \n",
    "    'VendorNumber': 'string',\n",
    "    'VendorName': 'string',\n",
    "    'InvoiceDate': 'string',\n",
    "    'PONumber': 'string',\n",
    "    'PODate': 'string',\n",
    "    'PayDate': 'string',\n",
    "    'Quantity': 'int',\n",
    "    'Dollars': 'float',\n",
    "    'Freight': 'float',\n",
    "    'Approval': 'string',\n",
    "}\n",
    "\n",
    "dtype_purchase_detail = {\n",
    "    'InventoryId': 'string',\n",
    "    'Store': 'string',\n",
    "    'Brand': 'string',\n",
    "    'Description': 'string',\n",
    "    'Size': 'string',\n",
    "    'VendorNumber': 'string',\n",
    "    'VendorName': 'string',\n",
    "    'PONumber': 'string',\n",
    "    'PODate': 'string',\n",
    "    'ReceivingDate': 'string',\n",
    "    'InvoiceDate': 'string',\n",
    "    'PayDate': 'string',\n",
    "    'PurchasePrice': 'float',\n",
    "    'Quantity': 'int',\n",
    "    'Dollars': 'float',\n",
    "    'Classification': 'string',\n",
    "}   \n",
    "    \n",
    "dtype_sales = {    \n",
    "    'InventoryId': 'string',\n",
    "    'Store': 'string',\n",
    "    'Brand': 'string',\n",
    "    'Description': 'string',\n",
    "    'Size': 'string',\n",
    "    'SalesQuantity': 'int',\n",
    "    'SalesDollars': 'float',\n",
    "    'SalesPrice': 'float',\n",
    "    'SalesDate': 'string',\n",
    "    'Volume': 'int',\n",
    "    'Classification': 'string',\n",
    "    'ExciseTax': 'float',\n",
    "    'VendorNo': 'string',\n",
    "    'VendorName': 'string',\n",
    "}\n",
    "\n",
    "def correct_dtype(dataframe, dtype_dict):\n",
    "    for column, dtype in dtype_dict.items():\n",
    "        dataframe = dataframe.withColumn(column, F.col(column).cast(dtype))\n",
    "    return dataframe\n",
    "\n",
    "raw_data_products = correct_dtype(raw_data_products, dtype_products)\n",
    "raw_data_inventory = correct_dtype(raw_data_inventory, dtype_inventory_begin)\n",
    "raw_data_inventory_end = correct_dtype(raw_data_inventory_end, dtype_inventory_end)\n",
    "raw_data_purchase_order = correct_dtype(raw_data_purchase_order, dtype_purchase_order)\n",
    "raw_data_purchase_detail = correct_dtype(raw_data_purchase_detail, dtype_purchase_detail)\n",
    "raw_data_sales = correct_dtype(raw_data_sales, dtype_sales)\n",
    "\n",
    "#\n",
    "# Convert date string to datetime\n",
    "#\n",
    "\n",
    "def format_date(dataframe, columns, date_format='yyyy-MM-dd'):\n",
    "    for column in columns:\n",
    "        dataframe = dataframe.withColumn(column, F.to_date(column, date_format))\n",
    "    return dataframe\n",
    "        \n",
    "raw_data_inventory = format_date(raw_data_inventory, ['startDate'])\n",
    "raw_data_inventory_end = format_date(raw_data_inventory_end, ['endDate'])\n",
    "raw_data_purchase_order = format_date(raw_data_purchase_order, ['PODate', 'InvoiceDate', 'PayDate'])\n",
    "raw_data_purchase_detail = format_date(raw_data_purchase_detail, ['PODate', 'ReceivingDate', 'InvoiceDate', 'PayDate'])\n",
    "raw_data_sales = format_date(raw_data_sales, ['SalesDate'], date_format = 'M/d/yyyy')\n",
    "\n",
    "#\n",
    "# Align features' name across datasets\n",
    "#\n",
    "# VendorNo in Sales should be renamed to VendorNumber\n",
    "raw_data_sales = raw_data_sales.withColumnRenamed('VendorNo', 'VendorNumber')"
   ]
  },
  {
   "cell_type": "code",
   "execution_count": 20,
   "id": "6bfbb884-27d0-4aae-9127-a0354c66b820",
   "metadata": {},
   "outputs": [
    {
     "name": "stdout",
     "output_type": "stream",
     "text": [
      "root\n",
      " |-- Brand: string (nullable = true)\n",
      " |-- Description: string (nullable = true)\n",
      " |-- Price: float (nullable = true)\n",
      " |-- Size: string (nullable = true)\n",
      " |-- Volume: integer (nullable = true)\n",
      " |-- Classification: string (nullable = true)\n",
      " |-- PurchasePrice: float (nullable = true)\n",
      " |-- VendorNumber: string (nullable = true)\n",
      " |-- VendorName: string (nullable = true)\n",
      "\n"
     ]
    }
   ],
   "source": [
    "raw_data_products.printSchema()"
   ]
  },
  {
   "cell_type": "code",
   "execution_count": 21,
   "id": "e9cda5cf-cd87-4c0b-bb66-9f9bff17d183",
   "metadata": {},
   "outputs": [
    {
     "name": "stdout",
     "output_type": "stream",
     "text": [
      "root\n",
      " |-- InventoryId: string (nullable = true)\n",
      " |-- Store: string (nullable = true)\n",
      " |-- City: string (nullable = true)\n",
      " |-- Brand: string (nullable = true)\n",
      " |-- Description: string (nullable = true)\n",
      " |-- Size: string (nullable = true)\n",
      " |-- onHand: integer (nullable = true)\n",
      " |-- Price: float (nullable = true)\n",
      " |-- startDate: date (nullable = true)\n",
      "\n"
     ]
    }
   ],
   "source": [
    "raw_data_inventory.printSchema()"
   ]
  },
  {
   "cell_type": "code",
   "execution_count": 22,
   "id": "737dfc9d-f3cb-4be9-826a-8d12019cfefd",
   "metadata": {},
   "outputs": [
    {
     "name": "stdout",
     "output_type": "stream",
     "text": [
      "root\n",
      " |-- InventoryId: string (nullable = true)\n",
      " |-- Store: string (nullable = true)\n",
      " |-- City: string (nullable = true)\n",
      " |-- Brand: string (nullable = true)\n",
      " |-- Description: string (nullable = true)\n",
      " |-- Size: string (nullable = true)\n",
      " |-- onHand: integer (nullable = true)\n",
      " |-- Price: float (nullable = true)\n",
      " |-- endDate: date (nullable = true)\n",
      "\n"
     ]
    }
   ],
   "source": [
    "raw_data_inventory_end.printSchema()"
   ]
  },
  {
   "cell_type": "code",
   "execution_count": 26,
   "id": "477ac797-24e1-48b7-9c73-2076041e8c7c",
   "metadata": {},
   "outputs": [
    {
     "name": "stdout",
     "output_type": "stream",
     "text": [
      "root\n",
      " |-- VendorNumber: string (nullable = true)\n",
      " |-- VendorName: string (nullable = true)\n",
      " |-- InvoiceDate: date (nullable = true)\n",
      " |-- PONumber: string (nullable = true)\n",
      " |-- PODate: date (nullable = true)\n",
      " |-- PayDate: date (nullable = true)\n",
      " |-- Quantity: integer (nullable = true)\n",
      " |-- Dollars: float (nullable = true)\n",
      " |-- Freight: float (nullable = true)\n",
      " |-- Approval: string (nullable = true)\n",
      "\n"
     ]
    }
   ],
   "source": [
    "raw_data_purchase_order.printSchema()"
   ]
  },
  {
   "cell_type": "code",
   "execution_count": 27,
   "id": "ff983a2c-3a3a-4bfe-84a3-3e1191e76717",
   "metadata": {},
   "outputs": [
    {
     "name": "stdout",
     "output_type": "stream",
     "text": [
      "root\n",
      " |-- InventoryId: string (nullable = true)\n",
      " |-- Store: string (nullable = true)\n",
      " |-- Brand: string (nullable = true)\n",
      " |-- Description: string (nullable = true)\n",
      " |-- Size: string (nullable = true)\n",
      " |-- VendorNumber: string (nullable = true)\n",
      " |-- VendorName: string (nullable = true)\n",
      " |-- PONumber: string (nullable = true)\n",
      " |-- PODate: date (nullable = true)\n",
      " |-- ReceivingDate: date (nullable = true)\n",
      " |-- InvoiceDate: date (nullable = true)\n",
      " |-- PayDate: date (nullable = true)\n",
      " |-- PurchasePrice: float (nullable = true)\n",
      " |-- Quantity: integer (nullable = true)\n",
      " |-- Dollars: float (nullable = true)\n",
      " |-- Classification: string (nullable = true)\n",
      "\n"
     ]
    }
   ],
   "source": [
    "raw_data_purchase_detail.printSchema()"
   ]
  },
  {
   "cell_type": "code",
   "execution_count": 28,
   "id": "0b16550d-4ded-4eaf-9b2a-6e54a7829767",
   "metadata": {},
   "outputs": [
    {
     "name": "stdout",
     "output_type": "stream",
     "text": [
      "root\n",
      " |-- InventoryId: string (nullable = true)\n",
      " |-- Store: string (nullable = true)\n",
      " |-- Brand: string (nullable = true)\n",
      " |-- Description: string (nullable = true)\n",
      " |-- Size: string (nullable = true)\n",
      " |-- SalesQuantity: integer (nullable = true)\n",
      " |-- SalesDollars: float (nullable = true)\n",
      " |-- SalesPrice: float (nullable = true)\n",
      " |-- SalesDate: date (nullable = true)\n",
      " |-- Volume: integer (nullable = true)\n",
      " |-- Classification: string (nullable = true)\n",
      " |-- ExciseTax: float (nullable = true)\n",
      " |-- VendorNumber: string (nullable = true)\n",
      " |-- VendorName: string (nullable = true)\n",
      "\n"
     ]
    }
   ],
   "source": [
    "raw_data_sales.printSchema()"
   ]
  },
  {
   "cell_type": "code",
   "execution_count": 31,
   "id": "34ff928f-f3c6-40e7-96c3-125baf82d44f",
   "metadata": {},
   "outputs": [],
   "source": [
    "selected_inventory = raw_data_inventory.where('Store = 15')\n",
    "selected_purchase_detail = raw_data_purchase_detail.where('Store = 15')\n",
    "selected_sales = raw_data_sales.where('Store = 15')"
   ]
  },
  {
   "cell_type": "code",
   "execution_count": 37,
   "id": "c0197844-1e14-4e51-8339-b7479a2a6c79",
   "metadata": {},
   "outputs": [
    {
     "data": {
      "text/plain": [
       "[Row(Store='15')]"
      ]
     },
     "execution_count": 37,
     "metadata": {},
     "output_type": "execute_result"
    }
   ],
   "source": [
    "selected_inventory.select('Store').distinct().collect()"
   ]
  },
  {
   "cell_type": "code",
   "execution_count": 38,
   "id": "9ea9e54e-805f-47a2-bada-fe74fc84f4d5",
   "metadata": {},
   "outputs": [
    {
     "data": {
      "text/plain": [
       "[Row(Store='15')]"
      ]
     },
     "execution_count": 38,
     "metadata": {},
     "output_type": "execute_result"
    }
   ],
   "source": [
    "selected_purchase_detail.select('Store').distinct().collect()"
   ]
  },
  {
   "cell_type": "code",
   "execution_count": 39,
   "id": "0eb29d50-84d5-4458-b8e1-18326ee5cfe5",
   "metadata": {},
   "outputs": [
    {
     "data": {
      "text/plain": [
       "[Row(Store='15')]"
      ]
     },
     "execution_count": 39,
     "metadata": {},
     "output_type": "execute_result"
    }
   ],
   "source": [
    "selected_sales.select('Store').distinct().collect()"
   ]
  },
  {
   "cell_type": "code",
   "execution_count": null,
   "id": "06f572e2-1260-48e7-b64a-1799bfddd72c",
   "metadata": {},
   "outputs": [],
   "source": []
  }
 ],
 "metadata": {
  "kernelspec": {
   "display_name": "Python 3 (ipykernel)",
   "language": "python",
   "name": "python3"
  },
  "language_info": {
   "codemirror_mode": {
    "name": "ipython",
    "version": 3
   },
   "file_extension": ".py",
   "mimetype": "text/x-python",
   "name": "python",
   "nbconvert_exporter": "python",
   "pygments_lexer": "ipython3",
   "version": "3.11.4"
  }
 },
 "nbformat": 4,
 "nbformat_minor": 5
}
