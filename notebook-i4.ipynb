{
 "cells": [
  {
   "cell_type": "markdown",
   "id": "a3117901-874c-4979-9551-0b2f597f3ad4",
   "metadata": {},
   "source": [
    "## INFOSYS 722 Assignement Iteration 4 - Sub-iteration 2"
   ]
  },
  {
   "cell_type": "code",
   "execution_count": 1,
   "id": "0307248a",
   "metadata": {},
   "outputs": [],
   "source": [
    "import findspark\n",
    "findspark.init('/home/ubuntu/spark-3.2.1-bin-hadoop2.7')"
   ]
  },
  {
   "cell_type": "code",
   "execution_count": 2,
   "id": "b6a4d98d-8000-4070-8d6e-d6d1501f4eac",
   "metadata": {},
   "outputs": [],
   "source": [
    "import pyspark\n",
    "from pyspark.sql import SparkSession\n",
    "from pyspark.sql import functions as F\n",
    "from pyspark.sql import Window\n",
    "import numpy as np\n",
    "import pandas as pd\n",
    "import matplotlib.pyplot as plt\n",
    "import matplotlib.dates as mdates\n",
    "import math"
   ]
  },
  {
   "cell_type": "code",
   "execution_count": 3,
   "id": "77edb78b-f681-48dd-ac1e-eb26458ddefb",
   "metadata": {},
   "outputs": [
    {
     "name": "stderr",
     "output_type": "stream",
     "text": [
      "WARNING: An illegal reflective access operation has occurred\n",
      "WARNING: Illegal reflective access by org.apache.spark.unsafe.Platform (file:/home/ubuntu/spark-3.2.1-bin-hadoop2.7/jars/spark-unsafe_2.12-3.2.1.jar) to constructor java.nio.DirectByteBuffer(long,int)\n",
      "WARNING: Please consider reporting this to the maintainers of org.apache.spark.unsafe.Platform\n",
      "WARNING: Use --illegal-access=warn to enable warnings of further illegal reflective access operations\n",
      "WARNING: All illegal access operations will be denied in a future release\n",
      "Using Spark's default log4j profile: org/apache/spark/log4j-defaults.properties\n",
      "Setting default log level to \"WARN\".\n",
      "To adjust logging level use sc.setLogLevel(newLevel). For SparkR, use setLogLevel(newLevel).\n",
      "23/10/12 09:10:42 WARN NativeCodeLoader: Unable to load native-hadoop library for your platform... using builtin-java classes where applicable\n"
     ]
    }
   ],
   "source": [
    "spark = SparkSession.builder.appName('infosys722-i4-i2').getOrCreate()"
   ]
  },
  {
   "cell_type": "code",
   "execution_count": 4,
   "id": "635d7fa6-c616-4326-87b8-1f417f6d9c10",
   "metadata": {},
   "outputs": [
    {
     "name": "stderr",
     "output_type": "stream",
     "text": [
      "                                                                                \r"
     ]
    }
   ],
   "source": [
    "selected_products = spark.read.options(compression='gzip').format('parquet').load('./Cleaned Datasets/products_v001')\n",
    "integrated_purchase_detail = spark.read.options(compression='gzip').format('parquet').load(\n",
    "    './Ready Datasets/purchase_detail_v001')\n",
    "integrated_sales = spark.read.options(compression='gzip').format('parquet').load(\n",
    "    './Ready Datasets/sales_v001')"
   ]
  },
  {
   "cell_type": "code",
   "execution_count": 5,
   "id": "2fadaaae",
   "metadata": {},
   "outputs": [],
   "source": [
    "period = 60"
   ]
  },
  {
   "cell_type": "code",
   "execution_count": 6,
   "id": "cb776055",
   "metadata": {},
   "outputs": [],
   "source": [
    "sales_frequency = integrated_sales.groupBy('Brand').agg(\n",
    "    F.count('Brand').alias('count')).withColumn('Frequency', F.col('count') / period)"
   ]
  },
  {
   "cell_type": "code",
   "execution_count": 7,
   "id": "6dae7a45-df9d-4e52-8be4-8d74ddf5551c",
   "metadata": {},
   "outputs": [],
   "source": [
    "from pyspark.ml.classification import DecisionTreeClassifier\n",
    "from pyspark.ml.feature import VectorAssembler\n",
    "from pyspark.ml.regression import DecisionTreeRegressor, LinearRegression, RandomForestRegressor\n",
    "from pyspark.ml.classification import DecisionTreeClassifier, RandomForestClassifier, NaiveBayes, GBTClassifier\n",
    "from pyspark.ml.clustering import KMeans\n",
    "from pyspark.ml.evaluation import RegressionEvaluator, MulticlassClassificationEvaluator\n",
    "from pyspark.ml.feature import StringIndexer, OneHotEncoder\n",
    "from pyspark.ml import Pipeline\n",
    "from pyspark.ml.evaluation import ClusteringEvaluator\n",
    "\n",
    "import seaborn as sns\n"
   ]
  },
  {
   "cell_type": "code",
   "execution_count": 8,
   "id": "8e6d8498",
   "metadata": {},
   "outputs": [
    {
     "name": "stderr",
     "output_type": "stream",
     "text": [
      "                                                                                \r"
     ]
    }
   ],
   "source": [
    "clustering = Pipeline(stages = [\n",
    "    VectorAssembler(inputCols=['Frequency'], outputCol='features'), \n",
    "    KMeans(k=3, seed=13)])\n",
    "cluster_model = clustering.fit(sales_frequency)    "
   ]
  },
  {
   "cell_type": "code",
   "execution_count": 9,
   "id": "16e64c11",
   "metadata": {},
   "outputs": [],
   "source": [
    "result = cluster_model.transform(sales_frequency)"
   ]
  },
  {
   "cell_type": "code",
   "execution_count": 10,
   "id": "284d2bec",
   "metadata": {},
   "outputs": [
    {
     "data": {
      "text/plain": [
       "<AxesSubplot:xlabel='prediction', ylabel='Frequency'>"
      ]
     },
     "execution_count": 10,
     "metadata": {},
     "output_type": "execute_result"
    },
    {
     "data": {
      "image/png": "[encoded data removed]",
      "text/plain": [
       "<Figure size 432x288 with 1 Axes>"
      ]
     },
     "metadata": {
      "needs_background": "light"
     },
     "output_type": "display_data"
    }
   ],
   "source": [
    "sns.boxplot(x='prediction', y='Frequency', data=result.toPandas())"
   ]
  },
  {
   "cell_type": "code",
   "execution_count": 11,
   "id": "8451605f",
   "metadata": {},
   "outputs": [
    {
     "data": {
      "text/plain": [
       "0.7969227246756405"
      ]
     },
     "execution_count": 11,
     "metadata": {},
     "output_type": "execute_result"
    }
   ],
   "source": [
    "evaluator = ClusteringEvaluator(metricName='silhouette',  \n",
    "                                distanceMeasure='squaredEuclidean')\n",
    "evaluator.evaluate(result)"
   ]
  },
  {
   "cell_type": "code",
   "execution_count": 12,
   "id": "a8e521aa",
   "metadata": {},
   "outputs": [
    {
     "name": "stdout",
     "output_type": "stream",
     "text": [
      "+----------+-----+\n",
      "|prediction|count|\n",
      "+----------+-----+\n",
      "|         1| 2467|\n",
      "|         2|  394|\n",
      "|         0|  937|\n",
      "+----------+-----+\n",
      "\n"
     ]
    }
   ],
   "source": [
    "result.groupBy('prediction').count().show()"
   ]
  },
  {
   "cell_type": "code",
   "execution_count": 13,
   "id": "f54acd52",
   "metadata": {},
   "outputs": [],
   "source": [
    "daily_avg_sales = integrated_sales.groupBy('Brand').agg(\n",
    "    F.sum('SalesQuantity').alias('TotalSales')).withColumn(\n",
    "    'DailyAverageSales', F.col('TotalSales') / period)"
   ]
  },
  {
   "cell_type": "code",
   "execution_count": 14,
   "id": "f2308e5b",
   "metadata": {},
   "outputs": [],
   "source": [
    "clustering = Pipeline(stages = [\n",
    "    VectorAssembler(inputCols=['DailyAverageSales'], outputCol='features'), \n",
    "    KMeans(k=3, seed=13)])\n",
    "cluster_model = clustering.fit(daily_avg_sales)    "
   ]
  },
  {
   "cell_type": "code",
   "execution_count": 15,
   "id": "0b53143e",
   "metadata": {},
   "outputs": [
    {
     "data": {
      "text/plain": [
       "<AxesSubplot:xlabel='prediction', ylabel='DailyAverageSales'>"
      ]
     },
     "execution_count": 15,
     "metadata": {},
     "output_type": "execute_result"
    },
    {
     "data": {
      "image/png": "[encoded data removed]",
      "text/plain": [
       "<Figure size 432x288 with 1 Axes>"
      ]
     },
     "metadata": {
      "needs_background": "light"
     },
     "output_type": "display_data"
    }
   ],
   "source": [
    "result = cluster_model.transform(daily_avg_sales)\n",
    "sns.boxplot(x='prediction', y='DailyAverageSales', data=result.toPandas())"
   ]
  },
  {
   "cell_type": "code",
   "execution_count": 16,
   "id": "1f16c9fd",
   "metadata": {},
   "outputs": [
    {
     "data": {
      "text/plain": [
       "0.9221945216287653"
      ]
     },
     "execution_count": 16,
     "metadata": {},
     "output_type": "execute_result"
    }
   ],
   "source": [
    "evaluator = ClusteringEvaluator(metricName='silhouette',  \n",
    "                                distanceMeasure='squaredEuclidean')\n",
    "evaluator.evaluate(result)"
   ]
  },
  {
   "cell_type": "code",
   "execution_count": 17,
   "id": "f7ab872f",
   "metadata": {},
   "outputs": [
    {
     "name": "stdout",
     "output_type": "stream",
     "text": [
      "+----------+-----+\n",
      "|prediction|count|\n",
      "+----------+-----+\n",
      "|         1| 3491|\n",
      "|         2|   28|\n",
      "|         0|  279|\n",
      "+----------+-----+\n",
      "\n"
     ]
    }
   ],
   "source": [
    "result.groupBy('prediction').count().show()"
   ]
  },
  {
   "cell_type": "code",
   "execution_count": 18,
   "id": "f942a2d5",
   "metadata": {},
   "outputs": [],
   "source": [
    "weekly_sales = integrated_sales.withColumn('Week', F.weekofyear(F.col('SalesDate'))).groupBy(\n",
    "    ['Brand', 'Week']).agg(\n",
    "    F.sum('SalesQuantity').alias('GroupedSales'), \n",
    "    F.mean('SalesPrice').alias('MeanPrice'),\n",
    "    F.mean('PurchasePrice').alias('MeanPurchasePrice')\n",
    ")"
   ]
  },
  {
   "cell_type": "code",
   "execution_count": 19,
   "id": "d5acf2aa",
   "metadata": {},
   "outputs": [],
   "source": [
    "weekly_frequency = weekly_sales.groupBy('Brand').agg(F.count('Brand').alias('WeeklyFrequency'))"
   ]
  },
  {
   "cell_type": "code",
   "execution_count": 20,
   "id": "cd974dc1",
   "metadata": {},
   "outputs": [
    {
     "name": "stdout",
     "output_type": "stream",
     "text": [
      "+-------+------------------+-----------------+\n",
      "|summary|             Brand|  WeeklyFrequency|\n",
      "+-------+------------------+-----------------+\n",
      "|  count|              3798|             3798|\n",
      "|   mean|15094.384149552396|4.983412322274882|\n",
      "| stddev|13184.954924953849|2.872221950864614|\n",
      "|    min|               100|                1|\n",
      "|    25%|            3919.0|                2|\n",
      "|    50%|            8895.0|                5|\n",
      "|    75%|           23764.0|                8|\n",
      "|    max|               999|               10|\n",
      "+-------+------------------+-----------------+\n",
      "\n"
     ]
    }
   ],
   "source": [
    "weekly_frequency.summary().show()"
   ]
  },
  {
   "cell_type": "code",
   "execution_count": 21,
   "id": "de4961b5",
   "metadata": {},
   "outputs": [],
   "source": [
    "cutoff = 10*3/4\n",
    "selected_brand = weekly_frequency.where(F.col('WeeklyFrequency') > cutoff)"
   ]
  },
  {
   "cell_type": "code",
   "execution_count": 22,
   "id": "5110cfeb",
   "metadata": {},
   "outputs": [],
   "source": [
    "selected_data = selected_brand.join(weekly_sales, on = 'Brand', how = 'left').join(\n",
    "    selected_products, on ='Brand', how = 'left')"
   ]
  },
  {
   "cell_type": "code",
   "execution_count": 23,
   "id": "2a748486",
   "metadata": {},
   "outputs": [],
   "source": [
    "def evaluate_regression_model(result, labelCol, predictionCol='prediction', metrics = ['rmse', 'mse', 'mae', 'r2']):\n",
    "    results = [(metric, \n",
    "                RegressionEvaluator(labelCol=labelCol, metricName=metric, predictionCol=predictionCol).evaluate(result)) \n",
    "               for metric in metrics]\n",
    "    for metric, result in results:\n",
    "        print(f'{metric}: {result}')\n",
    "    return dict(results)\n",
    "\n",
    "def evaluate_classification_model(result, labelCol, predictionCol='prediction', metrics = ['f1', 'accuracy']):\n",
    "    results = [(metric, \n",
    "                MulticlassClassificationEvaluator(\n",
    "                    labelCol=labelCol, metricName=metric, predictionCol=predictionCol).evaluate(result)) \n",
    "               for metric in metrics]\n",
    "    for metric, v in results:\n",
    "        print(f'{metric}: {v}')\n",
    "    return dict(results)\n",
    "    \n",
    "def get_string_indexers(dataframe, suffix='_index'):\n",
    "    indexers = []\n",
    "    for feature, dtype in dataframe.dtypes:\n",
    "        if dtype == 'string':\n",
    "            indexers.append(StringIndexer(inputCol=feature, outputCol=feature + suffix))\n",
    "    return indexers\n",
    "\n",
    "def generate_baseline(dataframe, target):\n",
    "    target_mean = dataframe.agg(F.mean(target)).collect()[0][0]\n",
    "    return dataframe.withColumn('baseline_prediction', F.lit(target_mean))\n",
    "\n",
    "def balance(dataframe, target, size=None):\n",
    "    categories = dataframe.groupBy(target).agg(F.count(target).alias('count'))\n",
    "    if size is None:\n",
    "        size = int(categories.agg(F.mean('count')).collect()[0][0])\n",
    "    balanced_df = spark.createDataFrame([], dataframe.schema)\n",
    "    for category, count in categories.collect():\n",
    "        if count > size:\n",
    "            sample = dataframe.where(F.col(target) == category).orderBy(F.rand(13)).limit(size)\n",
    "        else:\n",
    "            ratio = math.ceil(size/count)\n",
    "            sample = dataframe.where(F.col(target) == category).withColumn(\n",
    "                'dummy', F.explode(F.array([F.lit(i) for i in range(ratio)]))).drop('dummy').orderBy(F.rand(13)).limit(size)\n",
    "        balanced_df = balanced_df.unionAll(sample)\n",
    "    return balanced_df\n",
    "\n",
    "def print_evaluation(model, train, test, target, transformer, evaluate_function=evaluate_regression_model):\n",
    "    print('Training data evaluation metrics:')\n",
    "    result = model.transform(transformer.transform(train))\n",
    "    evaluate_function(result, target)\n",
    "\n",
    "    print('Testing data evaluation metrics:')\n",
    "    result = model.transform(transformer.transform(test))\n",
    "    evaluate_function(result, target)\n",
    "\n",
    "def print_feature_importance(model, train, rounding=6):\n",
    "    attrs = train.schema[\"features\"].metadata['ml_attr']['attrs']\n",
    "    feature_names = []\n",
    "    for key, feature_list in attrs.items():\n",
    "        feature_names = feature_names + feature_list\n",
    "    feature_importances = [(f['name'], float(round(model.featureImportances[f['idx']], rounding))) for f in feature_names]\n",
    "    spark.createDataFrame(feature_importances, ['feature', 'importance']).orderBy('importance', ascending=False).show()"
   ]
  },
  {
   "cell_type": "code",
   "execution_count": 24,
   "id": "a4106a02",
   "metadata": {},
   "outputs": [
    {
     "name": "stderr",
     "output_type": "stream",
     "text": [
      "                                                                                \r"
     ]
    },
    {
     "name": "stdout",
     "output_type": "stream",
     "text": [
      "+-------+------------------+\n",
      "|summary|      GroupedSales|\n",
      "+-------+------------------+\n",
      "|  count|              8638|\n",
      "|   mean| 8.055105348460291|\n",
      "| stddev|14.133847060371124|\n",
      "|    min|                 1|\n",
      "|    25%|                 2|\n",
      "|    50%|                 4|\n",
      "|    75%|                 9|\n",
      "|    max|               433|\n",
      "+-------+------------------+\n",
      "\n"
     ]
    }
   ],
   "source": [
    "selected_data.select('GroupedSales').summary().show()"
   ]
  },
  {
   "cell_type": "code",
   "execution_count": 25,
   "id": "557fdb0a",
   "metadata": {},
   "outputs": [
    {
     "data": {
      "text/plain": [
       "{'whiskers': [<matplotlib.lines.Line2D at 0x7f4a22ce39a0>,\n",
       "  <matplotlib.lines.Line2D at 0x7f4a22bc6d10>],\n",
       " 'caps': [<matplotlib.lines.Line2D at 0x7f4a22bc78e0>,\n",
       "  <matplotlib.lines.Line2D at 0x7f4a22bc4d30>],\n",
       " 'boxes': [<matplotlib.lines.Line2D at 0x7f4a22ce3b20>],\n",
       " 'medians': [<matplotlib.lines.Line2D at 0x7f4a22bc4910>],\n",
       " 'fliers': [<matplotlib.lines.Line2D at 0x7f4a22bc54e0>],\n",
       " 'means': []}"
      ]
     },
     "execution_count": 25,
     "metadata": {},
     "output_type": "execute_result"
    },
    {
     "data": {
      "image/png": "[encoded data removed]",
      "text/plain": [
       "<Figure size 432x288 with 1 Axes>"
      ]
     },
     "metadata": {
      "needs_background": "light"
     },
     "output_type": "display_data"
    }
   ],
   "source": [
    "plt.boxplot(selected_data.toPandas()['GroupedSales'])"
   ]
  },
  {
   "cell_type": "code",
   "execution_count": 26,
   "id": "9e876a32",
   "metadata": {},
   "outputs": [
    {
     "name": "stdout",
     "output_type": "stream",
     "text": [
      "+-------+-----------------+\n",
      "|summary|     GroupedSales|\n",
      "+-------+-----------------+\n",
      "|  count|             8067|\n",
      "|   mean|5.503904797322424|\n",
      "| stddev|4.687780103195881|\n",
      "|    min|                1|\n",
      "|    25%|                2|\n",
      "|    50%|                4|\n",
      "|    75%|                7|\n",
      "|    max|               22|\n",
      "+-------+-----------------+\n",
      "\n"
     ]
    },
    {
     "data": {
      "text/plain": [
       "{'whiskers': [<matplotlib.lines.Line2D at 0x7f4a22be2b00>,\n",
       "  <matplotlib.lines.Line2D at 0x7f4a22be3490>],\n",
       " 'caps': [<matplotlib.lines.Line2D at 0x7f4a22be03a0>,\n",
       "  <matplotlib.lines.Line2D at 0x7f4a22be2e60>],\n",
       " 'boxes': [<matplotlib.lines.Line2D at 0x7f4a22be1e10>],\n",
       " 'medians': [<matplotlib.lines.Line2D at 0x7f4a22be36a0>],\n",
       " 'fliers': [<matplotlib.lines.Line2D at 0x7f4a22be37c0>],\n",
       " 'means': []}"
      ]
     },
     "execution_count": 26,
     "metadata": {},
     "output_type": "execute_result"
    },
    {
     "data": {
      "image/png": "[encoded data removed]",
      "text/plain": [
       "<Figure size 432x288 with 1 Axes>"
      ]
     },
     "metadata": {
      "needs_background": "light"
     },
     "output_type": "display_data"
    }
   ],
   "source": [
    "def remove_extreme_by_z_scores(dataframe, column, threshold = 1):\n",
    "    mean, std = dataframe.agg(F.mean(column), F.stddev(column)).collect()[0]\n",
    "    dataframe = dataframe.withColumn('z_scores', (F.col(column) - mean) / std)\n",
    "    return dataframe.where(F.col('z_scores') <= threshold).drop('z_scores')\n",
    "selected_data = remove_extreme_by_z_scores(selected_data, 'GroupedSales')\n",
    "selected_data.select('GroupedSales').summary().show()\n",
    "plt.boxplot(selected_data.toPandas()['GroupedSales'])"
   ]
  },
  {
   "cell_type": "code",
   "execution_count": 27,
   "id": "3be6f444",
   "metadata": {},
   "outputs": [
    {
     "name": "stdout",
     "output_type": "stream",
     "text": [
      "root\n",
      " |-- Brand: string (nullable = true)\n",
      " |-- WeeklyFrequency: long (nullable = false)\n",
      " |-- Week: integer (nullable = true)\n",
      " |-- GroupedSales: long (nullable = true)\n",
      " |-- MeanPrice: double (nullable = true)\n",
      " |-- MeanPurchasePrice: double (nullable = true)\n",
      " |-- Price: float (nullable = true)\n",
      " |-- Size: string (nullable = true)\n",
      " |-- Volume: integer (nullable = true)\n",
      " |-- Classification: string (nullable = true)\n",
      " |-- PurchasePrice: float (nullable = true)\n",
      " |-- VendorNumber: string (nullable = true)\n",
      "\n"
     ]
    }
   ],
   "source": [
    "selected_data.printSchema()"
   ]
  },
  {
   "cell_type": "code",
   "execution_count": 28,
   "id": "8868ce4d",
   "metadata": {},
   "outputs": [],
   "source": [
    "weekly_average = selected_data.groupBy('Brand').agg(F.mean('GroupedSales').alias('WeeklyMeanSales'))"
   ]
  },
  {
   "cell_type": "code",
   "execution_count": 29,
   "id": "d58a1f17",
   "metadata": {},
   "outputs": [],
   "source": [
    "selected_data = selected_data.join(weekly_average, on = 'Brand', how = 'left')"
   ]
  },
  {
   "cell_type": "code",
   "execution_count": 30,
   "id": "1e0c1559",
   "metadata": {},
   "outputs": [
    {
     "name": "stdout",
     "output_type": "stream",
     "text": [
      "+----------+-----+\n",
      "|prediction|count|\n",
      "+----------+-----+\n",
      "|         1| 1230|\n",
      "|         2| 2341|\n",
      "|         0| 4496|\n",
      "+----------+-----+\n",
      "\n"
     ]
    },
    {
     "data": {
      "image/png": "[encoded data removed]",
      "text/plain": [
       "<Figure size 432x288 with 1 Axes>"
      ]
     },
     "metadata": {
      "needs_background": "light"
     },
     "output_type": "display_data"
    }
   ],
   "source": [
    "clustering = Pipeline(stages = [\n",
    "    VectorAssembler(inputCols=['WeeklyMeanSales'], outputCol='features'), \n",
    "    KMeans(k=3, seed=13)])\n",
    "cluster_model = clustering.fit(selected_data)    \n",
    "result = cluster_model.transform(selected_data)\n",
    "sns.boxplot(x='prediction', y='WeeklyMeanSales', data=result.toPandas())\n",
    "result.groupBy('prediction').count().show()"
   ]
  },
  {
   "cell_type": "code",
   "execution_count": 31,
   "id": "f032b64d",
   "metadata": {},
   "outputs": [
    {
     "name": "stdout",
     "output_type": "stream",
     "text": [
      "root\n",
      " |-- Brand: string (nullable = true)\n",
      " |-- WeeklyFrequency: long (nullable = false)\n",
      " |-- Week: integer (nullable = true)\n",
      " |-- GroupedSales: long (nullable = true)\n",
      " |-- MeanPrice: double (nullable = true)\n",
      " |-- MeanPurchasePrice: double (nullable = true)\n",
      " |-- Price: float (nullable = true)\n",
      " |-- Size: string (nullable = true)\n",
      " |-- Volume: integer (nullable = true)\n",
      " |-- Classification: string (nullable = true)\n",
      " |-- PurchasePrice: float (nullable = true)\n",
      " |-- VendorNumber: string (nullable = true)\n",
      " |-- WeeklyMeanSales: double (nullable = true)\n",
      " |-- Cluster: integer (nullable = false)\n",
      "\n"
     ]
    }
   ],
   "source": [
    "selected_data = cluster_model.transform(selected_data).drop('features').withColumnRenamed('prediction', 'Cluster')\n",
    "selected_data.printSchema()"
   ]
  },
  {
   "cell_type": "code",
   "execution_count": 34,
   "id": "3cec7d92",
   "metadata": {},
   "outputs": [
    {
     "name": "stdout",
     "output_type": "stream",
     "text": [
      "Test data size is 0.27429188517743175\n"
     ]
    },
    {
     "name": "stderr",
     "output_type": "stream",
     "text": [
      "23/10/12 09:13:29 WARN DAGScheduler: Broadcasting large task binary with size 1331.1 KiB\n",
      "23/10/12 09:13:30 WARN DAGScheduler: Broadcasting large task binary with size 1942.5 KiB\n",
      "                                                                                \r"
     ]
    },
    {
     "name": "stdout",
     "output_type": "stream",
     "text": [
      "Baseline performance:\n",
      "mse: 23.050993995685783\n",
      "r2: -1.2878587085651816e-14\n",
      "Training Performance:\n",
      "mse: 8.21675101369247\n",
      "r2: 0.6190433979956551\n",
      "Testing Performance:\n",
      "mse: 12.816066624267114\n",
      "r2: 0.4440124088936933\n"
     ]
    }
   ],
   "source": [
    "transformation_pipeline = Pipeline(stages=get_string_indexers(selected_data) + [\n",
    "    VectorAssembler(inputCols=[\n",
    "        'MeanPrice', 'Volume', 'Week', 'MeanPurchasePrice', 'Cluster',\n",
    "        'Size_index', 'Classification_index', 'VendorNumber_index'], \n",
    "                    outputCol='features')\n",
    "])\n",
    "\n",
    "sales_transformer = transformation_pipeline.fit(selected_data)\n",
    "\n",
    "test_data_size = 1 / (math.sqrt(7) + 1)\n",
    "print(f'Test data size is {test_data_size}')\n",
    "train, test = selected_data.randomSplit([1-test_data_size, test_data_size], seed=13)\n",
    "\n",
    "rfr = RandomForestRegressor(maxDepth=10, numTrees = 20, labelCol='GroupedSales', featuresCol='features', maxBins=256)\n",
    "model = rfr.fit(sales_transformer.transform(train))\n",
    "print('Baseline performance:')\n",
    "evaluate_regression_model(generate_baseline(test, 'GroupedSales'), 'GroupedSales', predictionCol='baseline_prediction', metrics=['mse', 'r2'])\n",
    "print('Training Performance:')\n",
    "result = model.transform(sales_transformer.transform(train))\n",
    "_ = evaluate_regression_model(result, 'GroupedSales', metrics=['mse', 'r2'])\n",
    "print('Testing Performance:')\n",
    "result = model.transform(sales_transformer.transform(test))\n",
    "_ = evaluate_regression_model(result, 'GroupedSales', metrics=['mse', 'r2'])"
   ]
  },
  {
   "cell_type": "code",
   "execution_count": 36,
   "id": "76068953",
   "metadata": {},
   "outputs": [
    {
     "data": {
      "image/png": "[encoded data removed]",
      "text/plain": [
       "<Figure size 432x288 with 1 Axes>"
      ]
     },
     "metadata": {
      "needs_background": "light"
     },
     "output_type": "display_data"
    }
   ],
   "source": [
    "dsp_df = result.toPandas()\n",
    "plt.scatter(dsp_df['GroupedSales'], dsp_df['prediction'], alpha=0.05)\n",
    "plt.plot(range(0,23), c='r')\n",
    "plt.show()"
   ]
  },
  {
   "cell_type": "code",
   "execution_count": 39,
   "id": "b8a54e20",
   "metadata": {},
   "outputs": [
    {
     "name": "stdout",
     "output_type": "stream",
     "text": [
      "+--------------------+----------+\n",
      "|             feature|importance|\n",
      "+--------------------+----------+\n",
      "|             Cluster|   0.54737|\n",
      "|                Week|  0.149468|\n",
      "|  VendorNumber_index|  0.117139|\n",
      "|   MeanPurchasePrice|  0.075063|\n",
      "|           MeanPrice|  0.060635|\n",
      "|          Size_index|  0.031961|\n",
      "|              Volume|  0.014467|\n",
      "|Classification_index|  0.003896|\n",
      "+--------------------+----------+\n",
      "\n"
     ]
    }
   ],
   "source": [
    "print_feature_importance(model, sales_transformer.transform(train))"
   ]
  },
  {
   "cell_type": "code",
   "execution_count": null,
   "id": "ef2cc6df",
   "metadata": {},
   "outputs": [],
   "source": []
  }
 ],
 "metadata": {
  "kernelspec": {
   "display_name": "Python 3 (ipykernel)",
   "language": "python",
   "name": "python3"
  },
  "language_info": {
   "codemirror_mode": {
    "name": "ipython",
    "version": 3
   },
   "file_extension": ".py",
   "mimetype": "text/x-python",
   "name": "python",
   "nbconvert_exporter": "python",
   "pygments_lexer": "ipython3",
   "version": "3.10.4"
  }
 },
 "nbformat": 4,
 "nbformat_minor": 5
}
