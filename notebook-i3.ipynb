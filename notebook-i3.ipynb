{
 "cells": [
  {
   "cell_type": "markdown",
   "id": "a3117901-874c-4979-9551-0b2f597f3ad4",
   "metadata": {},
   "source": [
    "## INFOSYS 722 Assignement Iteration 4 - Sub-iteration 2"
   ]
  },
  {
   "cell_type": "code",
   "execution_count": 1,
   "id": "0307248a",
   "metadata": {},
   "outputs": [],
   "source": [
    "import findspark\n",
    "findspark.init('/home/ubuntu/spark-3.2.1-bin-hadoop2.7')"
   ]
  },
  {
   "cell_type": "code",
   "execution_count": 2,
   "id": "b6a4d98d-8000-4070-8d6e-d6d1501f4eac",
   "metadata": {},
   "outputs": [],
   "source": [
    "import pyspark\n",
    "from pyspark.sql import SparkSession\n",
    "from pyspark.sql import functions as F\n",
    "from pyspark.sql import Window\n",
    "import numpy as np\n",
    "import pandas as pd\n",
    "import matplotlib.pyplot as plt\n",
    "import matplotlib.dates as mdates\n",
    "import math"
   ]
  },
  {
   "cell_type": "code",
   "execution_count": 3,
   "id": "77edb78b-f681-48dd-ac1e-eb26458ddefb",
   "metadata": {},
   "outputs": [
    {
     "name": "stderr",
     "output_type": "stream",
     "text": [
      "WARNING: An illegal reflective access operation has occurred\n",
      "WARNING: Illegal reflective access by org.apache.spark.unsafe.Platform (file:/home/ubuntu/spark-3.2.1-bin-hadoop2.7/jars/spark-unsafe_2.12-3.2.1.jar) to constructor java.nio.DirectByteBuffer(long,int)\n",
      "WARNING: Please consider reporting this to the maintainers of org.apache.spark.unsafe.Platform\n",
      "WARNING: Use --illegal-access=warn to enable warnings of further illegal reflective access operations\n",
      "WARNING: All illegal access operations will be denied in a future release\n",
      "Using Spark's default log4j profile: org/apache/spark/log4j-defaults.properties\n",
      "Setting default log level to \"WARN\".\n",
      "To adjust logging level use sc.setLogLevel(newLevel). For SparkR, use setLogLevel(newLevel).\n",
      "23/10/11 23:33:21 WARN NativeCodeLoader: Unable to load native-hadoop library for your platform... using builtin-java classes where applicable\n"
     ]
    }
   ],
   "source": [
    "spark = SparkSession.builder.appName('infosys722-i4-i2').getOrCreate()"
   ]
  },
  {
   "cell_type": "code",
   "execution_count": 4,
   "id": "635d7fa6-c616-4326-87b8-1f417f6d9c10",
   "metadata": {},
   "outputs": [
    {
     "name": "stderr",
     "output_type": "stream",
     "text": [
      "                                                                                \r"
     ]
    }
   ],
   "source": [
    "integrated_purchase_detail = spark.read.options(compression='gzip').format('parquet').load(\n",
    "    './Ready Datasets/purchase_detail_v001')\n",
    "integrated_sales = spark.read.options(compression='gzip').format('parquet').load(\n",
    "    './Ready Datasets/sales_v001')"
   ]
  },
  {
   "cell_type": "code",
   "execution_count": 5,
   "id": "2fadaaae",
   "metadata": {},
   "outputs": [],
   "source": [
    "period = 60"
   ]
  },
  {
   "cell_type": "code",
   "execution_count": 6,
   "id": "cb776055",
   "metadata": {},
   "outputs": [],
   "source": [
    "sales_frequency = integrated_sales.groupBy('Brand').agg(\n",
    "    F.count('Brand').alias('count')).withColumn('Frequency', F.col('count') / period)"
   ]
  },
  {
   "cell_type": "code",
   "execution_count": 7,
   "id": "62de9649",
   "metadata": {},
   "outputs": [
    {
     "name": "stderr",
     "output_type": "stream",
     "text": [
      "                                                                                \r"
     ]
    }
   ],
   "source": [
    "total_brand = integrated_sales.select('Brand').distinct().count()\n",
    "total_dollars = integrated_sales.agg(F.sum('SalesDollars')).collect()[0][0]\n",
    "total_sales_dollars = integrated_sales.groupBy('Brand').agg(\n",
    "    F.sum('SalesDollars').alias('TotalSalesDollars')\n",
    ").orderBy('TotalSalesDollars', ascending=False)\n",
    "windowval = (Window.rowsBetween(Window.unboundedPreceding, 0))\n",
    "abc = (total_sales_dollars.withColumn('Seq', F.lit(1))\n",
    " .withColumn('BrandPercentile', F.sum('Seq').over(windowval))\n",
    " .withColumn('BrandPercentile', F.col('BrandPercentile') / total_brand)\n",
    " .withColumn('SalesPercentile', F.sum('TotalSalesDollars').over(windowval))\n",
    " .withColumn('SalesPercentile', F.col('SalesPercentile') / total_dollars))"
   ]
  },
  {
   "cell_type": "code",
   "execution_count": 8,
   "id": "196529b3",
   "metadata": {
    "scrolled": false
   },
   "outputs": [
    {
     "name": "stderr",
     "output_type": "stream",
     "text": [
      "23/10/11 23:33:35 WARN WindowExec: No Partition Defined for Window operation! Moving all data to a single partition, this can cause serious performance degradation.\n",
      "23/10/11 23:33:35 WARN WindowExec: No Partition Defined for Window operation! Moving all data to a single partition, this can cause serious performance degradation.\n",
      "23/10/11 23:33:36 WARN WindowExec: No Partition Defined for Window operation! Moving all data to a single partition, this can cause serious performance degradation.\n",
      "23/10/11 23:33:37 WARN WindowExec: No Partition Defined for Window operation! Moving all data to a single partition, this can cause serious performance degradation.\n",
      "23/10/11 23:33:37 WARN WindowExec: No Partition Defined for Window operation! Moving all data to a single partition, this can cause serious performance degradation.\n"
     ]
    },
    {
     "name": "stdout",
     "output_type": "stream",
     "text": [
      "+-----+------------------+---+-------------------+------------------+\n",
      "|Brand| TotalSalesDollars|Seq|    BrandPercentile|   SalesPercentile|\n",
      "+-----+------------------+---+-------------------+------------------+\n",
      "| 6960|429.42999267578125|  1|0.20616113744075829|0.6998582455305453|\n",
      "|  782| 429.9200134277344|  1|0.20589784096893102|  0.69955646737617|\n",
      "| 3362| 431.2799873352051|  1|0.20563454449710375|0.6992543448640168|\n",
      "|11488|431.61999320983887|  1|0.20537124802527645|0.6989512666421488|\n",
      "|37235|431.63999938964844|  1|0.20510795155344919|0.6986479494841397|\n",
      "|26163| 431.6800060272217|  1|0.20484465508162192|0.6983446182669635|\n",
      "|24929|431.82000732421875|  1|0.20458135860979462|0.6980412589354742|\n",
      "| 5694|433.60998916625977|  1|0.20431806213796735|0.6977378012193035|\n",
      "| 5096| 434.5799922943115|  1| 0.2040547656661401|0.6974330856091201|\n",
      "| 5296| 434.8499984741211|  1| 0.2037914691943128| 0.697127688337761|\n",
      "|32368| 435.6600036621094|  1|0.20352817272248552|0.6968221013219312|\n",
      "|10727| 437.5199899673462|  1|0.20326487625065823|0.6965159450820724|\n",
      "|34870| 437.5599956512451|  1|0.20300157977883096|0.6962084817531794|\n",
      "|43809|437.62999725341797|  1| 0.2027382833070037|0.6959009903106435|\n",
      "| 8421| 438.3699893951416|  1| 0.2024749868351764|0.6955934496750967|\n",
      "|13723|438.74999618530273|  1|0.20221169036334913|0.6952853890165739|\n",
      "|32908| 439.6200008392334|  1|0.20194839389152186|0.6949770613116181|\n",
      "|  995| 439.7999973297119|  1|0.20168509741969456|0.6946681222185356|\n",
      "| 4334|439.89001846313477|  1| 0.2014218009478673|0.6943590566345008|\n",
      "| 2534| 439.9200134277344|  1|0.20115850447604003|0.6940499277889055|\n",
      "+-----+------------------+---+-------------------+------------------+\n",
      "only showing top 20 rows\n",
      "\n"
     ]
    }
   ],
   "source": [
    "abc.where('SalesPercentile <= 0.7').orderBy('SalesPercentile', ascending=False).show()"
   ]
  },
  {
   "cell_type": "code",
   "execution_count": 9,
   "id": "649221f0",
   "metadata": {},
   "outputs": [
    {
     "name": "stderr",
     "output_type": "stream",
     "text": [
      "23/10/11 23:33:37 WARN WindowExec: No Partition Defined for Window operation! Moving all data to a single partition, this can cause serious performance degradation.\n",
      "23/10/11 23:33:37 WARN WindowExec: No Partition Defined for Window operation! Moving all data to a single partition, this can cause serious performance degradation.\n",
      "23/10/11 23:33:38 WARN WindowExec: No Partition Defined for Window operation! Moving all data to a single partition, this can cause serious performance degradation.\n",
      "23/10/11 23:33:38 WARN WindowExec: No Partition Defined for Window operation! Moving all data to a single partition, this can cause serious performance degradation.\n",
      "23/10/11 23:33:38 WARN WindowExec: No Partition Defined for Window operation! Moving all data to a single partition, this can cause serious performance degradation.\n"
     ]
    }
   ],
   "source": [
    "importance_brands = spark.createDataFrame(abc.where('SalesPercentile <= 0.7').select('Brand').toPandas())"
   ]
  },
  {
   "cell_type": "code",
   "execution_count": 10,
   "id": "f1c8398e",
   "metadata": {},
   "outputs": [],
   "source": [
    "selected_integrated_sales = importance_brands.join(\n",
    "    integrated_sales, on='Brand', how='left').join(\n",
    "    sales_frequency, on='Brand', how='left'\n",
    ")"
   ]
  },
  {
   "cell_type": "code",
   "execution_count": 11,
   "id": "33eef2f4",
   "metadata": {},
   "outputs": [
    {
     "name": "stderr",
     "output_type": "stream",
     "text": [
      "\r",
      "[Stage 39:>                                                         (0 + 2) / 2]\r"
     ]
    },
    {
     "name": "stdout",
     "output_type": "stream",
     "text": [
      "+-------+-----------------+\n",
      "|summary|    SalesQuantity|\n",
      "+-------+-----------------+\n",
      "|  count|            17516|\n",
      "|   mean|3.453756565425896|\n",
      "| stddev|8.468994491850651|\n",
      "|    min|                1|\n",
      "|    25%|                1|\n",
      "|    50%|                2|\n",
      "|    75%|                3|\n",
      "|    max|              432|\n",
      "+-------+-----------------+\n",
      "\n"
     ]
    },
    {
     "name": "stderr",
     "output_type": "stream",
     "text": [
      "\r",
      "                                                                                \r"
     ]
    }
   ],
   "source": [
    "selected_integrated_sales.select('SalesQuantity').summary().show()"
   ]
  },
  {
   "cell_type": "code",
   "execution_count": 12,
   "id": "f49ce89b",
   "metadata": {},
   "outputs": [
    {
     "name": "stderr",
     "output_type": "stream",
     "text": [
      "\r",
      "[Stage 43:>                                                         (0 + 1) / 1]\r",
      "\r",
      "                                                                                \r"
     ]
    },
    {
     "data": {
      "text/plain": [
       "{'whiskers': [<matplotlib.lines.Line2D at 0x7f7959ca4280>,\n",
       "  <matplotlib.lines.Line2D at 0x7f7959ca4550>],\n",
       " 'caps': [<matplotlib.lines.Line2D at 0x7f7959ca4820>,\n",
       "  <matplotlib.lines.Line2D at 0x7f7959ca4af0>],\n",
       " 'boxes': [<matplotlib.lines.Line2D at 0x7f7959cc3f70>],\n",
       " 'medians': [<matplotlib.lines.Line2D at 0x7f7959ca4dc0>],\n",
       " 'fliers': [<matplotlib.lines.Line2D at 0x7f7959ca5090>],\n",
       " 'means': []}"
      ]
     },
     "execution_count": 12,
     "metadata": {},
     "output_type": "execute_result"
    },
    {
     "data": {
      "image/png": "[encoded data removed]",
      "text/plain": [
       "<Figure size 432x288 with 1 Axes>"
      ]
     },
     "metadata": {
      "needs_background": "light"
     },
     "output_type": "display_data"
    }
   ],
   "source": [
    "plt.boxplot(selected_integrated_sales.toPandas()['SalesQuantity'])"
   ]
  },
  {
   "cell_type": "code",
   "execution_count": 13,
   "id": "a21bef0e",
   "metadata": {},
   "outputs": [
    {
     "name": "stdout",
     "output_type": "stream",
     "text": [
      "+-------+------------------+\n",
      "|summary|     SalesQuantity|\n",
      "+-------+------------------+\n",
      "|  count|             16641|\n",
      "|   mean|   2.4248542755844|\n",
      "| stddev|1.9681704011242749|\n",
      "|    min|                 1|\n",
      "|    25%|                 1|\n",
      "|    50%|                 2|\n",
      "|    75%|                 3|\n",
      "|    max|                11|\n",
      "+-------+------------------+\n",
      "\n"
     ]
    }
   ],
   "source": [
    "def remove_extreme_by_z_scores(dataframe, column, threshold = 1):\n",
    "    mean, std = dataframe.agg(F.mean(column), F.stddev(column)).collect()[0]\n",
    "    dataframe = dataframe.withColumn('z_scores', (F.col(column) - mean) / std)\n",
    "    return dataframe.where(F.col('z_scores') <= threshold).drop('z_scores')\n",
    "\n",
    "selected_integrated_sales = remove_extreme_by_z_scores(selected_integrated_sales, 'SalesQuantity')\n",
    "selected_integrated_sales.select('SalesQuantity').summary().show()"
   ]
  },
  {
   "cell_type": "code",
   "execution_count": 14,
   "id": "29ae1969",
   "metadata": {},
   "outputs": [
    {
     "data": {
      "text/plain": [
       "{'whiskers': [<matplotlib.lines.Line2D at 0x7f7959c548e0>,\n",
       "  <matplotlib.lines.Line2D at 0x7f7959c54610>],\n",
       " 'caps': [<matplotlib.lines.Line2D at 0x7f7959c54340>,\n",
       "  <matplotlib.lines.Line2D at 0x7f7959c54070>],\n",
       " 'boxes': [<matplotlib.lines.Line2D at 0x7f7959c54bb0>],\n",
       " 'medians': [<matplotlib.lines.Line2D at 0x7f79581eca30>],\n",
       " 'fliers': [<matplotlib.lines.Line2D at 0x7f79581ec280>],\n",
       " 'means': []}"
      ]
     },
     "execution_count": 14,
     "metadata": {},
     "output_type": "execute_result"
    },
    {
     "data": {
      "image/png": "[encoded data removed]",
      "text/plain": [
       "<Figure size 432x288 with 1 Axes>"
      ]
     },
     "metadata": {
      "needs_background": "light"
     },
     "output_type": "display_data"
    }
   ],
   "source": [
    "plt.boxplot(selected_integrated_sales.toPandas()['SalesQuantity'])"
   ]
  },
  {
   "cell_type": "markdown",
   "id": "5ed0e8e1-6adc-466c-bd0a-b2f593a14304",
   "metadata": {},
   "source": [
    "## Modeling"
   ]
  },
  {
   "cell_type": "code",
   "execution_count": 15,
   "id": "6dae7a45-df9d-4e52-8be4-8d74ddf5551c",
   "metadata": {},
   "outputs": [],
   "source": [
    "from pyspark.ml.classification import DecisionTreeClassifier\n",
    "from pyspark.ml.feature import VectorAssembler\n",
    "from pyspark.ml.regression import DecisionTreeRegressor, LinearRegression, RandomForestRegressor\n",
    "from pyspark.ml.classification import DecisionTreeClassifier, RandomForestClassifier, NaiveBayes, GBTClassifier\n",
    "from pyspark.ml.evaluation import RegressionEvaluator, MulticlassClassificationEvaluator\n",
    "from pyspark.ml.feature import StringIndexer, OneHotEncoder\n",
    "from pyspark.ml import Pipeline"
   ]
  },
  {
   "cell_type": "code",
   "execution_count": 16,
   "id": "81e1c628-8981-40e6-83c1-d74ae246daa3",
   "metadata": {},
   "outputs": [],
   "source": [
    "def evaluate_regression_model(result, labelCol, predictionCol='prediction', metrics = ['rmse', 'mse', 'mae', 'r2']):\n",
    "    results = [(metric, \n",
    "                RegressionEvaluator(labelCol=labelCol, metricName=metric, predictionCol=predictionCol).evaluate(result)) \n",
    "               for metric in metrics]\n",
    "    for metric, result in results:\n",
    "        print(f'{metric}: {result}')\n",
    "    return dict(results)\n",
    "\n",
    "def evaluate_classification_model(result, labelCol, predictionCol='prediction', metrics = ['f1', 'accuracy']):\n",
    "    results = [(metric, \n",
    "                MulticlassClassificationEvaluator(\n",
    "                    labelCol=labelCol, metricName=metric, predictionCol=predictionCol).evaluate(result)) \n",
    "               for metric in metrics]\n",
    "    for metric, v in results:\n",
    "        print(f'{metric}: {v}')\n",
    "    return dict(results)\n",
    "    \n",
    "def get_string_indexers(dataframe, suffix='_index'):\n",
    "    indexers = []\n",
    "    for feature, dtype in dataframe.dtypes:\n",
    "        if dtype == 'string':\n",
    "            indexers.append(StringIndexer(inputCol=feature, outputCol=feature + suffix))\n",
    "    return indexers\n",
    "\n",
    "def generate_baseline(dataframe, target):\n",
    "    target_mean = dataframe.agg(F.mean(target)).collect()[0][0]\n",
    "    return dataframe.withColumn('baseline_prediction', F.lit(target_mean))\n",
    "\n",
    "def balance(dataframe, target, size=None):\n",
    "    categories = dataframe.groupBy(target).agg(F.count(target).alias('count'))\n",
    "    if size is None:\n",
    "        size = int(categories.agg(F.mean('count')).collect()[0][0])\n",
    "    balanced_df = spark.createDataFrame([], dataframe.schema)\n",
    "    for category, count in categories.collect():\n",
    "        if count > size:\n",
    "            sample = dataframe.where(F.col(target) == category).orderBy(F.rand(13)).limit(size)\n",
    "        else:\n",
    "            ratio = math.ceil(size/count)\n",
    "            sample = dataframe.where(F.col(target) == category).withColumn(\n",
    "                'dummy', F.explode(F.array([F.lit(i) for i in range(ratio)]))).drop('dummy').orderBy(F.rand(13)).limit(size)\n",
    "        balanced_df = balanced_df.unionAll(sample)\n",
    "    return balanced_df\n",
    "\n",
    "def print_evaluation(model, train, test, target, transformer, evaluate_function=evaluate_regression_model):\n",
    "    print('Training data evaluation metrics:')\n",
    "    result = model.transform(transformer.transform(train))\n",
    "    evaluate_function(result, target)\n",
    "\n",
    "    print('Testing data evaluation metrics:')\n",
    "    result = model.transform(transformer.transform(test))\n",
    "    evaluate_function(result, target)\n",
    "\n",
    "def print_feature_importance(model, train, rounding=6):\n",
    "    attrs = train.schema[\"features\"].metadata['ml_attr']['attrs']\n",
    "    feature_names = []\n",
    "    for key, feature_list in attrs.items():\n",
    "        feature_names = feature_names + feature_list\n",
    "    feature_importances = [(f['name'], float(round(model.featureImportances[f['idx']], rounding))) for f in feature_names]\n",
    "    spark.createDataFrame(feature_importances, ['feature', 'importance']).orderBy('importance', ascending=False).show()"
   ]
  },
  {
   "cell_type": "markdown",
   "id": "9ce2ae86-8a69-400e-9ac3-c713dd787dfc",
   "metadata": {},
   "source": [
    "### Compare Algorithm Sales"
   ]
  },
  {
   "cell_type": "code",
   "execution_count": 17,
   "id": "d6c9e2d1-422a-4a39-83ec-cf7b860ca826",
   "metadata": {},
   "outputs": [],
   "source": [
    "train, test = selected_integrated_sales.randomSplit([0.7, 0.3], seed=13)"
   ]
  },
  {
   "cell_type": "code",
   "execution_count": 18,
   "id": "2215070b-a573-4f11-8661-d7db566def1c",
   "metadata": {},
   "outputs": [
    {
     "name": "stderr",
     "output_type": "stream",
     "text": [
      "                                                                                \r"
     ]
    },
    {
     "data": {
      "image/png": "[encoded data removed]",
      "text/plain": [
       "<Figure size 432x288 with 1 Axes>"
      ]
     },
     "metadata": {
      "needs_background": "light"
     },
     "output_type": "display_data"
    }
   ],
   "source": [
    "plt.hist(train.toPandas()['SalesQuantity'], bins=[i+0.5 for i in range(0, 12)], rwidth=0.5, alpha=0.5, label='train')\n",
    "balanced_train = balance(train, 'SalesQuantity')\n",
    "plt.hist(balanced_train.toPandas()['SalesQuantity'], bins=[i+0.5 for i in range(0, 12)], rwidth=0.5, alpha=0.5, label='balanced')\n",
    "plt.legend(loc='upper right')\n",
    "plt.show()"
   ]
  },
  {
   "cell_type": "code",
   "execution_count": 19,
   "id": "2b579b72-7cb0-4dd4-99a5-e0a66ce47070",
   "metadata": {},
   "outputs": [],
   "source": [
    "train = balanced_train"
   ]
  },
  {
   "cell_type": "code",
   "execution_count": 20,
   "id": "89fda14f-f264-4faa-8c6c-dd95e0fcedce",
   "metadata": {},
   "outputs": [
    {
     "name": "stderr",
     "output_type": "stream",
     "text": [
      "                                                                                \r"
     ]
    }
   ],
   "source": [
    "transformation_pipeline = Pipeline(stages=get_string_indexers(selected_integrated_sales) + [\n",
    "    VectorAssembler(inputCols=[\n",
    "        'SalesPrice', 'DayOfMonth', 'PurchasePrice',\n",
    "        'VendorNumber_index', 'DayOfWeek_index', 'Frequency'], \n",
    "                    outputCol='features')\n",
    "])\n",
    "transformer = transformation_pipeline.fit(selected_integrated_sales)"
   ]
  },
  {
   "cell_type": "code",
   "execution_count": 21,
   "id": "18b7b175-f13b-4a29-b2c7-db729ddac2b6",
   "metadata": {},
   "outputs": [
    {
     "name": "stderr",
     "output_type": "stream",
     "text": [
      "                                                                                \r"
     ]
    },
    {
     "name": "stdout",
     "output_type": "stream",
     "text": [
      "Training data evaluation metrics:\n"
     ]
    },
    {
     "name": "stderr",
     "output_type": "stream",
     "text": [
      "[Stage 394:==================================================>    (12 + 1) / 13]\r"
     ]
    },
    {
     "name": "stdout",
     "output_type": "stream",
     "text": [
      "f1: 0.4778919320628107\n",
      "accuracy: 0.5006450503139245\n",
      "Testing data evaluation metrics:\n"
     ]
    },
    {
     "name": "stderr",
     "output_type": "stream",
     "text": [
      "\r",
      "                                                                                \r"
     ]
    },
    {
     "name": "stdout",
     "output_type": "stream",
     "text": [
      "f1: 0.266785856686485\n",
      "accuracy: 0.22220003992812937\n"
     ]
    }
   ],
   "source": [
    "# Decision Tree\n",
    "dtr = DecisionTreeClassifier(maxDepth=10, labelCol='SalesQuantity', featuresCol='features', maxBins=256)\n",
    "model = dtr.fit(transformer.transform(train))\n",
    "print_evaluation(model, train, test, 'SalesQuantity', transformer, evaluate_function=evaluate_classification_model)"
   ]
  },
  {
   "cell_type": "code",
   "execution_count": 22,
   "id": "17ad24a3-bd95-4e3b-abb6-7505dfb51748",
   "metadata": {},
   "outputs": [
    {
     "name": "stderr",
     "output_type": "stream",
     "text": [
      "23/10/11 23:35:21 WARN DAGScheduler: Broadcasting large task binary with size 1302.6 KiB\n",
      "23/10/11 23:35:28 WARN DAGScheduler: Broadcasting large task binary with size 2.0 MiB\n",
      "23/10/11 23:35:36 WARN DAGScheduler: Broadcasting large task binary with size 3.1 MiB\n",
      "                                                                                \r"
     ]
    },
    {
     "name": "stdout",
     "output_type": "stream",
     "text": [
      "Training data evaluation metrics:\n"
     ]
    },
    {
     "name": "stderr",
     "output_type": "stream",
     "text": [
      "23/10/11 23:35:51 WARN DAGScheduler: Broadcasting large task binary with size 2.8 MiB\n",
      "23/10/11 23:35:57 WARN DAGScheduler: Broadcasting large task binary with size 2.8 MiB\n",
      "                                                                                \r"
     ]
    },
    {
     "name": "stdout",
     "output_type": "stream",
     "text": [
      "f1: 0.7064555505383495\n",
      "accuracy: 0.7210802442590523\n",
      "Testing data evaluation metrics:\n"
     ]
    },
    {
     "name": "stderr",
     "output_type": "stream",
     "text": [
      "23/10/11 23:35:59 WARN DAGScheduler: Broadcasting large task binary with size 2.7 MiB\n",
      "23/10/11 23:36:00 WARN DAGScheduler: Broadcasting large task binary with size 2.7 MiB\n"
     ]
    },
    {
     "name": "stdout",
     "output_type": "stream",
     "text": [
      "f1: 0.2861838509126349\n",
      "accuracy: 0.24695548013575563\n"
     ]
    },
    {
     "name": "stderr",
     "output_type": "stream",
     "text": [
      "\r",
      "[Stage 672:============================>                            (1 + 1) / 2]\r",
      "\r",
      "                                                                                \r"
     ]
    }
   ],
   "source": [
    "# Random Forest\n",
    "rfr = RandomForestClassifier(maxDepth=10, labelCol='SalesQuantity', featuresCol='features', maxBins=256)\n",
    "model = rfr.fit(transformer.transform(train))\n",
    "print_evaluation(model, train, test, 'SalesQuantity', transformer, evaluate_function=evaluate_classification_model)"
   ]
  },
  {
   "cell_type": "code",
   "execution_count": 23,
   "id": "5f4e8cd7-1e51-401e-a98a-526bf244c292",
   "metadata": {},
   "outputs": [
    {
     "name": "stderr",
     "output_type": "stream",
     "text": [
      "                                                                                \r"
     ]
    },
    {
     "name": "stdout",
     "output_type": "stream",
     "text": [
      "Training data evaluation metrics:\n"
     ]
    },
    {
     "name": "stderr",
     "output_type": "stream",
     "text": [
      "23/10/11 23:36:12 WARN InstanceBuilder$NativeBLAS: Failed to load implementation from:dev.ludovic.netlib.blas.JNIBLAS\n",
      "23/10/11 23:36:12 WARN InstanceBuilder$NativeBLAS: Failed to load implementation from:dev.ludovic.netlib.blas.ForeignLinkerBLAS\n",
      "                                                                                \r"
     ]
    },
    {
     "name": "stdout",
     "output_type": "stream",
     "text": [
      "f1: 0.053058888427765336\n",
      "accuracy: 0.07301969553625183\n",
      "Testing data evaluation metrics:\n",
      "f1: 0.05714881216007275\n",
      "accuracy: 0.043322020363345974\n"
     ]
    }
   ],
   "source": [
    "# Naive Bayes\n",
    "nb = NaiveBayes(labelCol='SalesQuantity', featuresCol='features')\n",
    "model = nb.fit(transformer.transform(train))\n",
    "print_evaluation(model, train, test, 'SalesQuantity', transformer, evaluate_function=evaluate_classification_model)"
   ]
  },
  {
   "cell_type": "code",
   "execution_count": 24,
   "id": "470eeaf1",
   "metadata": {},
   "outputs": [],
   "source": [
    "transformation_pipeline = Pipeline(stages=get_string_indexers(selected_integrated_sales) + [\n",
    "    VectorAssembler(inputCols=[\n",
    "        'SalesPrice_log10', 'DayOfMonth', 'PurchasePrice_log10',\n",
    "        'VendorNumber_index', 'DayOfWeek_index', 'Frequency'], \n",
    "                    outputCol='features')\n",
    "])\n",
    "transformer = transformation_pipeline.fit(selected_integrated_sales)"
   ]
  },
  {
   "cell_type": "code",
   "execution_count": 25,
   "id": "5ff25790",
   "metadata": {},
   "outputs": [
    {
     "name": "stderr",
     "output_type": "stream",
     "text": [
      "                                                                                \r"
     ]
    },
    {
     "name": "stdout",
     "output_type": "stream",
     "text": [
      "Training data evaluation metrics:\n"
     ]
    },
    {
     "name": "stderr",
     "output_type": "stream",
     "text": [
      "                                                                                \r"
     ]
    },
    {
     "name": "stdout",
     "output_type": "stream",
     "text": [
      "f1: 0.4778919320628107\n",
      "accuracy: 0.5006450503139245\n",
      "Testing data evaluation metrics:\n"
     ]
    },
    {
     "name": "stderr",
     "output_type": "stream",
     "text": [
      "\r",
      "[Stage 1049:============================>                           (1 + 1) / 2]\r",
      "\r",
      "                                                                                \r"
     ]
    },
    {
     "name": "stdout",
     "output_type": "stream",
     "text": [
      "f1: 0.266785856686485\n",
      "accuracy: 0.22220003992812937\n"
     ]
    }
   ],
   "source": [
    "# Decision Tree\n",
    "dtr = DecisionTreeClassifier(maxDepth=10, labelCol='SalesQuantity', featuresCol='features', maxBins=256)\n",
    "model = dtr.fit(transformer.transform(train))\n",
    "print_evaluation(model, train, test, 'SalesQuantity', transformer, evaluate_function=evaluate_classification_model)"
   ]
  },
  {
   "cell_type": "code",
   "execution_count": 26,
   "id": "b81274a1",
   "metadata": {},
   "outputs": [
    {
     "name": "stderr",
     "output_type": "stream",
     "text": [
      "23/10/11 23:37:17 WARN DAGScheduler: Broadcasting large task binary with size 1301.9 KiB\n",
      "23/10/11 23:37:21 WARN DAGScheduler: Broadcasting large task binary with size 2.0 MiB\n",
      "23/10/11 23:37:27 WARN DAGScheduler: Broadcasting large task binary with size 3.1 MiB\n",
      "                                                                                \r"
     ]
    },
    {
     "name": "stdout",
     "output_type": "stream",
     "text": [
      "Training data evaluation metrics:\n"
     ]
    },
    {
     "name": "stderr",
     "output_type": "stream",
     "text": [
      "23/10/11 23:37:42 WARN DAGScheduler: Broadcasting large task binary with size 2.8 MiB\n",
      "23/10/11 23:37:46 WARN DAGScheduler: Broadcasting large task binary with size 2.8 MiB\n",
      "                                                                                \r"
     ]
    },
    {
     "name": "stdout",
     "output_type": "stream",
     "text": [
      "f1: 0.7064555505383495\n",
      "accuracy: 0.7210802442590523\n",
      "Testing data evaluation metrics:\n"
     ]
    },
    {
     "name": "stderr",
     "output_type": "stream",
     "text": [
      "23/10/11 23:37:48 WARN DAGScheduler: Broadcasting large task binary with size 2.7 MiB\n",
      "23/10/11 23:37:49 WARN DAGScheduler: Broadcasting large task binary with size 2.7 MiB\n"
     ]
    },
    {
     "name": "stdout",
     "output_type": "stream",
     "text": [
      "f1: 0.2861838509126349\n",
      "accuracy: 0.24695548013575563\n"
     ]
    },
    {
     "name": "stderr",
     "output_type": "stream",
     "text": [
      "\r",
      "[Stage 1321:>                                                       (0 + 2) / 2]\r",
      "\r",
      "                                                                                \r"
     ]
    }
   ],
   "source": [
    "# Random Forest\n",
    "rfr = RandomForestClassifier(maxDepth=10, labelCol='SalesQuantity', featuresCol='features', maxBins=256)\n",
    "model = rfr.fit(transformer.transform(train))\n",
    "print_evaluation(model, train, test, 'SalesQuantity', transformer, evaluate_function=evaluate_classification_model)"
   ]
  },
  {
   "cell_type": "markdown",
   "id": "b6dfd0ef-fa22-4323-b4e0-47500e5ca8c6",
   "metadata": {},
   "source": [
    "### Data Mining - Sales Model"
   ]
  },
  {
   "cell_type": "code",
   "execution_count": 27,
   "id": "15cdce2a-e23f-4e3c-b7ee-16bda8b2a446",
   "metadata": {},
   "outputs": [
    {
     "name": "stdout",
     "output_type": "stream",
     "text": [
      "Test data size is 0.3090169943749474\n"
     ]
    }
   ],
   "source": [
    "# Random Forest\n",
    "transformation_pipeline = Pipeline(stages=get_string_indexers(selected_integrated_sales) + [\n",
    "    VectorAssembler(inputCols=[\n",
    "        'SalesPrice', 'DayOfMonth', 'PurchasePrice',\n",
    "        'VendorNumber_index', 'DayOfWeek_index', 'Frequency'], \n",
    "                    outputCol='features')\n",
    "])\n",
    "transformer = transformation_pipeline.fit(selected_integrated_sales)\n",
    "\n",
    "test_data_size = 1 / (math.sqrt(5) + 1)\n",
    "print(f'Test data size is {test_data_size}')\n",
    "train, test = selected_integrated_sales.randomSplit([1-test_data_size, test_data_size], seed=13)\n",
    "train = balance(train, 'SalesQuantity')"
   ]
  },
  {
   "cell_type": "code",
   "execution_count": 28,
   "id": "80f0505f-a81e-4f91-84e7-b3ded6708853",
   "metadata": {},
   "outputs": [],
   "source": [
    "cache = {}\n",
    "def try_depth(max_depth):\n",
    "    if cache.get(max_depth) is not None:\n",
    "        return cache.get(max_depth)\n",
    "    print('===============================================')\n",
    "    print(f'Trying maxDepth: {max_depth}')\n",
    "    rfr = RandomForestClassifier(maxDepth=max_depth, labelCol='SalesQuantity', featuresCol='features', maxBins=256)\n",
    "    model = rfr.fit(transformer.transform(train))\n",
    "    print('training:')\n",
    "    result = model.transform(transformer.transform(train))\n",
    "    _ = evaluate_classification_model(result, 'SalesQuantity')\n",
    "    print('testing:')\n",
    "    result = model.transform(transformer.transform(test))\n",
    "    cache[max_depth] = evaluate_classification_model(result, 'SalesQuantity')\n",
    "    return cache[max_depth]"
   ]
  },
  {
   "cell_type": "code",
   "execution_count": 29,
   "id": "806665a2-9856-418b-85bc-39b780a0e62d",
   "metadata": {
    "scrolled": false
   },
   "outputs": [
    {
     "name": "stdout",
     "output_type": "stream",
     "text": [
      "===============================================\n",
      "Trying maxDepth: 3\n"
     ]
    },
    {
     "name": "stderr",
     "output_type": "stream",
     "text": [
      "                                                                                \r"
     ]
    },
    {
     "name": "stdout",
     "output_type": "stream",
     "text": [
      "training:\n"
     ]
    },
    {
     "name": "stderr",
     "output_type": "stream",
     "text": [
      "[Stage 1542:>                                                       (0 + 2) / 2]\r"
     ]
    },
    {
     "name": "stdout",
     "output_type": "stream",
     "text": [
      "f1: 0.1211756793586338\n",
      "accuracy: 0.1838228885208751\n",
      "testing:\n"
     ]
    },
    {
     "name": "stderr",
     "output_type": "stream",
     "text": [
      "\r",
      "                                                                                \r"
     ]
    },
    {
     "name": "stdout",
     "output_type": "stream",
     "text": [
      "f1: 0.26636618070993134\n",
      "accuracy: 0.29442508710801396\n",
      "===============================================\n",
      "Trying maxDepth: 15\n"
     ]
    },
    {
     "name": "stderr",
     "output_type": "stream",
     "text": [
      "23/10/11 23:38:48 WARN DAGScheduler: Broadcasting large task binary with size 1319.7 KiB\n",
      "23/10/11 23:38:53 WARN DAGScheduler: Broadcasting large task binary with size 2.0 MiB\n",
      "23/10/11 23:39:00 WARN DAGScheduler: Broadcasting large task binary with size 3.1 MiB\n",
      "23/10/11 23:39:10 WARN DAGScheduler: Broadcasting large task binary with size 4.5 MiB\n",
      "23/10/11 23:39:22 WARN DAGScheduler: Broadcasting large task binary with size 6.4 MiB\n",
      "23/10/11 23:39:38 WARN DAGScheduler: Broadcasting large task binary with size 8.6 MiB\n",
      "23/10/11 23:39:55 WARN DAGScheduler: Broadcasting large task binary with size 11.1 MiB\n",
      "23/10/11 23:40:16 WARN DAGScheduler: Broadcasting large task binary with size 13.7 MiB\n",
      "                                                                                \r"
     ]
    },
    {
     "name": "stdout",
     "output_type": "stream",
     "text": [
      "training:\n"
     ]
    },
    {
     "name": "stderr",
     "output_type": "stream",
     "text": [
      "23/10/11 23:40:42 WARN DAGScheduler: Broadcasting large task binary with size 10.0 MiB\n",
      "23/10/11 23:40:49 WARN DAGScheduler: Broadcasting large task binary with size 10.0 MiB\n",
      "                                                                                \r"
     ]
    },
    {
     "name": "stdout",
     "output_type": "stream",
     "text": [
      "f1: 0.9595767601949199\n",
      "accuracy: 0.9600801882681077\n",
      "testing:\n"
     ]
    },
    {
     "name": "stderr",
     "output_type": "stream",
     "text": [
      "23/10/11 23:40:53 WARN DAGScheduler: Broadcasting large task binary with size 9.9 MiB\n",
      "23/10/11 23:40:55 WARN DAGScheduler: Broadcasting large task binary with size 9.9 MiB\n",
      "                                                                                \r"
     ]
    },
    {
     "name": "stdout",
     "output_type": "stream",
     "text": [
      "f1: 0.3052479230567588\n",
      "accuracy: 0.2715834301200155\n",
      "===============================================\n",
      "Trying maxDepth: 9\n"
     ]
    },
    {
     "name": "stderr",
     "output_type": "stream",
     "text": [
      "23/10/11 23:41:19 WARN DAGScheduler: Broadcasting large task binary with size 1319.7 KiB\n",
      "23/10/11 23:41:24 WARN DAGScheduler: Broadcasting large task binary with size 2.0 MiB\n",
      "                                                                                \r"
     ]
    },
    {
     "name": "stdout",
     "output_type": "stream",
     "text": [
      "training:\n"
     ]
    },
    {
     "name": "stderr",
     "output_type": "stream",
     "text": [
      "23/10/11 23:41:34 WARN DAGScheduler: Broadcasting large task binary with size 1974.0 KiB\n",
      "23/10/11 23:41:39 WARN DAGScheduler: Broadcasting large task binary with size 1974.0 KiB\n",
      "                                                                                \r"
     ]
    },
    {
     "name": "stdout",
     "output_type": "stream",
     "text": [
      "f1: 0.6002425398679786\n",
      "accuracy: 0.6226793340887301\n",
      "testing:\n"
     ]
    },
    {
     "name": "stderr",
     "output_type": "stream",
     "text": [
      "23/10/11 23:41:40 WARN DAGScheduler: Broadcasting large task binary with size 1897.4 KiB\n",
      "23/10/11 23:41:41 WARN DAGScheduler: Broadcasting large task binary with size 1897.4 KiB\n"
     ]
    },
    {
     "name": "stdout",
     "output_type": "stream",
     "text": [
      "f1: 0.30024416441326907\n",
      "accuracy: 0.28087495160665893\n",
      "===============================================\n",
      "Trying maxDepth: 6\n"
     ]
    },
    {
     "name": "stderr",
     "output_type": "stream",
     "text": [
      "                                                                                \r"
     ]
    },
    {
     "name": "stdout",
     "output_type": "stream",
     "text": [
      "training:\n"
     ]
    },
    {
     "name": "stderr",
     "output_type": "stream",
     "text": [
      "                                                                                \r"
     ]
    },
    {
     "name": "stdout",
     "output_type": "stream",
     "text": [
      "f1: 0.31834265852335475\n",
      "accuracy: 0.3530027019959906\n",
      "testing:\n",
      "f1: 0.29087097701286496\n",
      "accuracy: 0.2951993805652342\n",
      "===============================================\n",
      "Trying maxDepth: 5\n"
     ]
    },
    {
     "name": "stderr",
     "output_type": "stream",
     "text": [
      "                                                                                \r"
     ]
    },
    {
     "name": "stdout",
     "output_type": "stream",
     "text": [
      "training:\n"
     ]
    },
    {
     "name": "stderr",
     "output_type": "stream",
     "text": [
      "                                                                                \r"
     ]
    },
    {
     "name": "stdout",
     "output_type": "stream",
     "text": [
      "f1: 0.24718808140917614\n",
      "accuracy: 0.2857142857142857\n",
      "testing:\n"
     ]
    },
    {
     "name": "stderr",
     "output_type": "stream",
     "text": [
      "\r",
      "[Stage 2548:============================>                           (1 + 1) / 2]\r",
      "\r",
      "                                                                                \r"
     ]
    },
    {
     "name": "stdout",
     "output_type": "stream",
     "text": [
      "f1: 0.28409900229428925\n",
      "accuracy: 0.2969415408439799\n"
     ]
    },
    {
     "data": {
      "text/plain": [
       "5"
      ]
     },
     "execution_count": 29,
     "metadata": {},
     "output_type": "execute_result"
    }
   ],
   "source": [
    "def find_best_max_depth(left, right):\n",
    "    if left == right:\n",
    "        return left\n",
    "    left_metric, right_metric = try_depth(left), try_depth(right)\n",
    "    if left_metric['accuracy'] < right_metric['accuracy']:\n",
    "        middle = math.ceil((left + right) / 2)\n",
    "        return find_best_max_depth(middle, right)\n",
    "    else:\n",
    "        middle = math.floor((left + right) / 2)\n",
    "        return find_best_max_depth(left, middle)\n",
    "\n",
    "find_best_max_depth(3, 15)"
   ]
  },
  {
   "cell_type": "code",
   "execution_count": 30,
   "id": "79382fed-2f51-4a65-a07e-ae956a114943",
   "metadata": {
    "scrolled": true
   },
   "outputs": [
    {
     "name": "stderr",
     "output_type": "stream",
     "text": [
      "                                                                                \r"
     ]
    },
    {
     "name": "stdout",
     "output_type": "stream",
     "text": [
      "Training data evaluation metrics:\n"
     ]
    },
    {
     "name": "stderr",
     "output_type": "stream",
     "text": [
      "                                                                                \r"
     ]
    },
    {
     "name": "stdout",
     "output_type": "stream",
     "text": [
      "f1: 0.24718808140917614\n",
      "accuracy: 0.2857142857142857\n",
      "Testing data evaluation metrics:\n",
      "f1: 0.28409900229428925\n",
      "accuracy: 0.2969415408439799\n"
     ]
    }
   ],
   "source": [
    "# Random Forest\n",
    "rfr = RandomForestClassifier(maxDepth=5, labelCol='SalesQuantity', featuresCol='features', maxBins=256)\n",
    "model = rfr.fit(transformer.transform(train))\n",
    "print_evaluation(model, train, test, 'SalesQuantity', transformer, evaluate_function=evaluate_classification_model)"
   ]
  },
  {
   "cell_type": "code",
   "execution_count": 31,
   "id": "be519801",
   "metadata": {},
   "outputs": [
    {
     "name": "stdout",
     "output_type": "stream",
     "text": [
      "+------------------+----------+\n",
      "|           feature|importance|\n",
      "+------------------+----------+\n",
      "|         Frequency|  0.301711|\n",
      "|        SalesPrice|  0.176445|\n",
      "|   DayOfWeek_index|  0.175172|\n",
      "|     PurchasePrice|  0.157284|\n",
      "|VendorNumber_index|  0.100708|\n",
      "|        DayOfMonth|   0.08868|\n",
      "+------------------+----------+\n",
      "\n"
     ]
    }
   ],
   "source": [
    "print_feature_importance(model, transformer.transform(train))"
   ]
  },
  {
   "cell_type": "code",
   "execution_count": 32,
   "id": "9b1c546d",
   "metadata": {},
   "outputs": [
    {
     "name": "stdout",
     "output_type": "stream",
     "text": [
      "+-------+------------------+------------------+\n",
      "|summary|             Brand|             count|\n",
      "+-------+------------------+------------------+\n",
      "|  count|              3798|              3798|\n",
      "|   mean|15094.384149552396|10.172985781990521|\n",
      "| stddev|13184.954924953821| 9.884283717826671|\n",
      "|    min|               100|                 1|\n",
      "|    25%|            3919.0|                 3|\n",
      "|    50%|            8895.0|                 7|\n",
      "|    75%|           23764.0|                15|\n",
      "|    max|               999|                52|\n",
      "+-------+------------------+------------------+\n",
      "\n"
     ]
    }
   ],
   "source": [
    "integrated_sales.groupBy('Brand').agg(F.count('Brand').alias('count')).summary().show()"
   ]
  },
  {
   "cell_type": "code",
   "execution_count": null,
   "id": "fc9d3218",
   "metadata": {},
   "outputs": [],
   "source": []
  }
 ],
 "metadata": {
  "kernelspec": {
   "display_name": "Python 3 (ipykernel)",
   "language": "python",
   "name": "python3"
  },
  "language_info": {
   "codemirror_mode": {
    "name": "ipython",
    "version": 3
   },
   "file_extension": ".py",
   "mimetype": "text/x-python",
   "name": "python",
   "nbconvert_exporter": "python",
   "pygments_lexer": "ipython3",
   "version": "3.10.4"
  }
 },
 "nbformat": 4,
 "nbformat_minor": 5
}
