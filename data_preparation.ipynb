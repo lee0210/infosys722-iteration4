{
 "cells": [
  {
   "cell_type": "code",
   "execution_count": 1,
   "id": "ad34253e-31f4-4813-aabb-7cafb269dc0b",
   "metadata": {},
   "outputs": [],
   "source": [
    "import pyspark\n",
    "from pyspark.sql import SparkSession\n",
    "from pyspark.sql import functions as F\n",
    "\n",
    "spark = SparkSession.builder.appName('infosys722-i4-dp').getOrCreate()\n",
    "\n",
    "selected_products = spark.read.options(compression='gzip').format('parquet').load('./Cleaned Datasets/products_v001')\n",
    "selected_inventory = spark.read.options(compression='gzip').format('parquet').load('./Cleaned Datasets/inventory_v001')\n",
    "selected_sales = spark.read.options(compression='gzip').format('parquet').load('./Cleaned Datasets/sales_v001')\n",
    "selected_purchase_detail = spark.read.options(compression='gzip').format('parquet').load('./Cleaned Datasets/purchase_detail_v001')"
   ]
  },
  {
   "cell_type": "code",
   "execution_count": 2,
   "id": "941d49aa-3860-46f8-9740-8b8b4f79879b",
   "metadata": {},
   "outputs": [],
   "source": [
    "# Integrate product information to purchase details\n",
    "integrated_purchase_detail = selected_purchase_detail.join(\n",
    "    selected_products.drop('Size', 'VendorNumber', 'PurchasePrice', 'Classification'), on='Brand', how='left')\n",
    "\n",
    "# Integrate product information to sales records and contruct ProfitRate fields\n",
    "integrated_sales = selected_sales.join(\n",
    "    selected_products.drop('Size', 'Volume', 'Classification', 'VendorNumber'), on='Brand', how='left')\n",
    "integrated_sales = integrated_sales.withColumn('ProfitRate', \n",
    "    (integrated_sales['SalesPrice'] - integrated_sales['PurchasePrice']) / integrated_sales['PurchasePrice'])"
   ]
  },
  {
   "cell_type": "code",
   "execution_count": 3,
   "id": "ba46d164-824d-4ef6-8fb4-99f0f63207ed",
   "metadata": {},
   "outputs": [],
   "source": [
    "def transform_data(dataframe, columns, transform_function = F.log10, suffix='_log10'):\n",
    "    for column in columns: \n",
    "        dataframe = dataframe.withColumn(column + suffix, transform_function(F.col(column)))\n",
    "    return dataframe\n",
    "\n",
    "integrated_purchase_detail = transform_data(integrated_purchase_detail, ['PurchasePrice', 'Volume', 'Price'])\n",
    "integrated_sales = transform_data(integrated_sales, ['PurchasePrice', 'Volume', 'SalesPrice'])"
   ]
  },
  {
   "cell_type": "code",
   "execution_count": 6,
   "id": "e5d597a2-e3c3-4822-a3ed-23c7c96d4d1c",
   "metadata": {},
   "outputs": [],
   "source": [
    "def save_ready_data(dataframe, name, folder = './Ready Datasets/', version = '_v001'):\n",
    "    dataframe.write.parquet(folder + name + version, compression='gzip', mode='overwrite')"
   ]
  },
  {
   "cell_type": "code",
   "execution_count": 7,
   "id": "453f3880-2184-43fd-8e41-e03ea79025ea",
   "metadata": {},
   "outputs": [],
   "source": [
    "save_ready_data(integrated_purchase_detail, 'purchase_detail')\n",
    "save_ready_data(integrated_sales, 'sales')"
   ]
  },
  {
   "cell_type": "code",
   "execution_count": null,
   "id": "8127d71c-61a0-4328-895e-d0e9f4526eaf",
   "metadata": {},
   "outputs": [],
   "source": []
  }
 ],
 "metadata": {
  "kernelspec": {
   "display_name": "Python 3 (ipykernel)",
   "language": "python",
   "name": "python3"
  },
  "language_info": {
   "codemirror_mode": {
    "name": "ipython",
    "version": 3
   },
   "file_extension": ".py",
   "mimetype": "text/x-python",
   "name": "python",
   "nbconvert_exporter": "python",
   "pygments_lexer": "ipython3",
   "version": "3.11.4"
  }
 },
 "nbformat": 4,
 "nbformat_minor": 5
}
